{
 "cells": [
  {
   "cell_type": "code",
   "execution_count": 1,
   "metadata": {},
   "outputs": [],
   "source": [
    "import matplotlib.pyplot as plt\n",
    "import pandas as pd\n",
    "import scipy.stats as st\n",
    "import numpy as np\n",
    "\n",
    "Bdata = pd.read_csv(\"Data/Batting.csv\")\n",
    "\n",
    "\n",
    "# Bdata.head()"
   ]
  },
  {
   "cell_type": "markdown",
   "metadata": {},
   "source": [
    "## Batting: 1871-2019"
   ]
  },
  {
   "cell_type": "code",
   "execution_count": 2,
   "metadata": {},
   "outputs": [
    {
     "data": {
      "text/html": [
       "<div>\n",
       "<style scoped>\n",
       "    .dataframe tbody tr th:only-of-type {\n",
       "        vertical-align: middle;\n",
       "    }\n",
       "\n",
       "    .dataframe tbody tr th {\n",
       "        vertical-align: top;\n",
       "    }\n",
       "\n",
       "    .dataframe thead th {\n",
       "        text-align: right;\n",
       "    }\n",
       "</style>\n",
       "<table border=\"1\" class=\"dataframe\">\n",
       "  <thead>\n",
       "    <tr style=\"text-align: right;\">\n",
       "      <th></th>\n",
       "      <th>playerID</th>\n",
       "      <th>yearID</th>\n",
       "      <th>stint</th>\n",
       "      <th>teamID</th>\n",
       "      <th>lgID</th>\n",
       "      <th>G</th>\n",
       "      <th>AB</th>\n",
       "      <th>R</th>\n",
       "      <th>H</th>\n",
       "      <th>2B</th>\n",
       "      <th>...</th>\n",
       "      <th>RBI</th>\n",
       "      <th>SB</th>\n",
       "      <th>CS</th>\n",
       "      <th>BB</th>\n",
       "      <th>SO</th>\n",
       "      <th>IBB</th>\n",
       "      <th>HBP</th>\n",
       "      <th>SH</th>\n",
       "      <th>SF</th>\n",
       "      <th>GIDP</th>\n",
       "    </tr>\n",
       "  </thead>\n",
       "  <tbody>\n",
       "    <tr>\n",
       "      <th>0</th>\n",
       "      <td>abercda01</td>\n",
       "      <td>1871</td>\n",
       "      <td>1</td>\n",
       "      <td>TRO</td>\n",
       "      <td>NaN</td>\n",
       "      <td>1</td>\n",
       "      <td>4</td>\n",
       "      <td>0</td>\n",
       "      <td>0</td>\n",
       "      <td>0</td>\n",
       "      <td>...</td>\n",
       "      <td>0.0</td>\n",
       "      <td>0.0</td>\n",
       "      <td>0.0</td>\n",
       "      <td>0</td>\n",
       "      <td>0.0</td>\n",
       "      <td>NaN</td>\n",
       "      <td>NaN</td>\n",
       "      <td>NaN</td>\n",
       "      <td>NaN</td>\n",
       "      <td>0.0</td>\n",
       "    </tr>\n",
       "    <tr>\n",
       "      <th>1</th>\n",
       "      <td>addybo01</td>\n",
       "      <td>1871</td>\n",
       "      <td>1</td>\n",
       "      <td>RC1</td>\n",
       "      <td>NaN</td>\n",
       "      <td>25</td>\n",
       "      <td>118</td>\n",
       "      <td>30</td>\n",
       "      <td>32</td>\n",
       "      <td>6</td>\n",
       "      <td>...</td>\n",
       "      <td>13.0</td>\n",
       "      <td>8.0</td>\n",
       "      <td>1.0</td>\n",
       "      <td>4</td>\n",
       "      <td>0.0</td>\n",
       "      <td>NaN</td>\n",
       "      <td>NaN</td>\n",
       "      <td>NaN</td>\n",
       "      <td>NaN</td>\n",
       "      <td>0.0</td>\n",
       "    </tr>\n",
       "    <tr>\n",
       "      <th>2</th>\n",
       "      <td>allisar01</td>\n",
       "      <td>1871</td>\n",
       "      <td>1</td>\n",
       "      <td>CL1</td>\n",
       "      <td>NaN</td>\n",
       "      <td>29</td>\n",
       "      <td>137</td>\n",
       "      <td>28</td>\n",
       "      <td>40</td>\n",
       "      <td>4</td>\n",
       "      <td>...</td>\n",
       "      <td>19.0</td>\n",
       "      <td>3.0</td>\n",
       "      <td>1.0</td>\n",
       "      <td>2</td>\n",
       "      <td>5.0</td>\n",
       "      <td>NaN</td>\n",
       "      <td>NaN</td>\n",
       "      <td>NaN</td>\n",
       "      <td>NaN</td>\n",
       "      <td>1.0</td>\n",
       "    </tr>\n",
       "    <tr>\n",
       "      <th>3</th>\n",
       "      <td>allisdo01</td>\n",
       "      <td>1871</td>\n",
       "      <td>1</td>\n",
       "      <td>WS3</td>\n",
       "      <td>NaN</td>\n",
       "      <td>27</td>\n",
       "      <td>133</td>\n",
       "      <td>28</td>\n",
       "      <td>44</td>\n",
       "      <td>10</td>\n",
       "      <td>...</td>\n",
       "      <td>27.0</td>\n",
       "      <td>1.0</td>\n",
       "      <td>1.0</td>\n",
       "      <td>0</td>\n",
       "      <td>2.0</td>\n",
       "      <td>NaN</td>\n",
       "      <td>NaN</td>\n",
       "      <td>NaN</td>\n",
       "      <td>NaN</td>\n",
       "      <td>0.0</td>\n",
       "    </tr>\n",
       "    <tr>\n",
       "      <th>4</th>\n",
       "      <td>ansonca01</td>\n",
       "      <td>1871</td>\n",
       "      <td>1</td>\n",
       "      <td>RC1</td>\n",
       "      <td>NaN</td>\n",
       "      <td>25</td>\n",
       "      <td>120</td>\n",
       "      <td>29</td>\n",
       "      <td>39</td>\n",
       "      <td>11</td>\n",
       "      <td>...</td>\n",
       "      <td>16.0</td>\n",
       "      <td>6.0</td>\n",
       "      <td>2.0</td>\n",
       "      <td>2</td>\n",
       "      <td>1.0</td>\n",
       "      <td>NaN</td>\n",
       "      <td>NaN</td>\n",
       "      <td>NaN</td>\n",
       "      <td>NaN</td>\n",
       "      <td>0.0</td>\n",
       "    </tr>\n",
       "    <tr>\n",
       "      <th>...</th>\n",
       "      <td>...</td>\n",
       "      <td>...</td>\n",
       "      <td>...</td>\n",
       "      <td>...</td>\n",
       "      <td>...</td>\n",
       "      <td>...</td>\n",
       "      <td>...</td>\n",
       "      <td>...</td>\n",
       "      <td>...</td>\n",
       "      <td>...</td>\n",
       "      <td>...</td>\n",
       "      <td>...</td>\n",
       "      <td>...</td>\n",
       "      <td>...</td>\n",
       "      <td>...</td>\n",
       "      <td>...</td>\n",
       "      <td>...</td>\n",
       "      <td>...</td>\n",
       "      <td>...</td>\n",
       "      <td>...</td>\n",
       "      <td>...</td>\n",
       "    </tr>\n",
       "    <tr>\n",
       "      <th>107424</th>\n",
       "      <td>zimmejo02</td>\n",
       "      <td>2019</td>\n",
       "      <td>1</td>\n",
       "      <td>DET</td>\n",
       "      <td>AL</td>\n",
       "      <td>23</td>\n",
       "      <td>2</td>\n",
       "      <td>0</td>\n",
       "      <td>0</td>\n",
       "      <td>0</td>\n",
       "      <td>...</td>\n",
       "      <td>0.0</td>\n",
       "      <td>0.0</td>\n",
       "      <td>0.0</td>\n",
       "      <td>0</td>\n",
       "      <td>2.0</td>\n",
       "      <td>0.0</td>\n",
       "      <td>0.0</td>\n",
       "      <td>0.0</td>\n",
       "      <td>0.0</td>\n",
       "      <td>0.0</td>\n",
       "    </tr>\n",
       "    <tr>\n",
       "      <th>107425</th>\n",
       "      <td>zimmeky01</td>\n",
       "      <td>2019</td>\n",
       "      <td>1</td>\n",
       "      <td>KCA</td>\n",
       "      <td>AL</td>\n",
       "      <td>15</td>\n",
       "      <td>0</td>\n",
       "      <td>0</td>\n",
       "      <td>0</td>\n",
       "      <td>0</td>\n",
       "      <td>...</td>\n",
       "      <td>0.0</td>\n",
       "      <td>0.0</td>\n",
       "      <td>0.0</td>\n",
       "      <td>0</td>\n",
       "      <td>0.0</td>\n",
       "      <td>0.0</td>\n",
       "      <td>0.0</td>\n",
       "      <td>0.0</td>\n",
       "      <td>0.0</td>\n",
       "      <td>0.0</td>\n",
       "    </tr>\n",
       "    <tr>\n",
       "      <th>107426</th>\n",
       "      <td>zimmery01</td>\n",
       "      <td>2019</td>\n",
       "      <td>1</td>\n",
       "      <td>WAS</td>\n",
       "      <td>NL</td>\n",
       "      <td>52</td>\n",
       "      <td>171</td>\n",
       "      <td>20</td>\n",
       "      <td>44</td>\n",
       "      <td>9</td>\n",
       "      <td>...</td>\n",
       "      <td>27.0</td>\n",
       "      <td>0.0</td>\n",
       "      <td>0.0</td>\n",
       "      <td>17</td>\n",
       "      <td>39.0</td>\n",
       "      <td>0.0</td>\n",
       "      <td>0.0</td>\n",
       "      <td>0.0</td>\n",
       "      <td>2.0</td>\n",
       "      <td>4.0</td>\n",
       "    </tr>\n",
       "    <tr>\n",
       "      <th>107427</th>\n",
       "      <td>zobribe01</td>\n",
       "      <td>2019</td>\n",
       "      <td>1</td>\n",
       "      <td>CHN</td>\n",
       "      <td>NL</td>\n",
       "      <td>47</td>\n",
       "      <td>150</td>\n",
       "      <td>24</td>\n",
       "      <td>39</td>\n",
       "      <td>5</td>\n",
       "      <td>...</td>\n",
       "      <td>17.0</td>\n",
       "      <td>0.0</td>\n",
       "      <td>0.0</td>\n",
       "      <td>23</td>\n",
       "      <td>24.0</td>\n",
       "      <td>0.0</td>\n",
       "      <td>1.0</td>\n",
       "      <td>0.0</td>\n",
       "      <td>2.0</td>\n",
       "      <td>6.0</td>\n",
       "    </tr>\n",
       "    <tr>\n",
       "      <th>107428</th>\n",
       "      <td>zuninmi01</td>\n",
       "      <td>2019</td>\n",
       "      <td>1</td>\n",
       "      <td>TBA</td>\n",
       "      <td>AL</td>\n",
       "      <td>90</td>\n",
       "      <td>266</td>\n",
       "      <td>30</td>\n",
       "      <td>44</td>\n",
       "      <td>10</td>\n",
       "      <td>...</td>\n",
       "      <td>32.0</td>\n",
       "      <td>0.0</td>\n",
       "      <td>0.0</td>\n",
       "      <td>20</td>\n",
       "      <td>98.0</td>\n",
       "      <td>0.0</td>\n",
       "      <td>3.0</td>\n",
       "      <td>0.0</td>\n",
       "      <td>0.0</td>\n",
       "      <td>4.0</td>\n",
       "    </tr>\n",
       "  </tbody>\n",
       "</table>\n",
       "<p>107429 rows × 22 columns</p>\n",
       "</div>"
      ],
      "text/plain": [
       "         playerID  yearID  stint teamID lgID   G   AB   R   H  2B  ...   RBI  \\\n",
       "0       abercda01    1871      1    TRO  NaN   1    4   0   0   0  ...   0.0   \n",
       "1        addybo01    1871      1    RC1  NaN  25  118  30  32   6  ...  13.0   \n",
       "2       allisar01    1871      1    CL1  NaN  29  137  28  40   4  ...  19.0   \n",
       "3       allisdo01    1871      1    WS3  NaN  27  133  28  44  10  ...  27.0   \n",
       "4       ansonca01    1871      1    RC1  NaN  25  120  29  39  11  ...  16.0   \n",
       "...           ...     ...    ...    ...  ...  ..  ...  ..  ..  ..  ...   ...   \n",
       "107424  zimmejo02    2019      1    DET   AL  23    2   0   0   0  ...   0.0   \n",
       "107425  zimmeky01    2019      1    KCA   AL  15    0   0   0   0  ...   0.0   \n",
       "107426  zimmery01    2019      1    WAS   NL  52  171  20  44   9  ...  27.0   \n",
       "107427  zobribe01    2019      1    CHN   NL  47  150  24  39   5  ...  17.0   \n",
       "107428  zuninmi01    2019      1    TBA   AL  90  266  30  44  10  ...  32.0   \n",
       "\n",
       "         SB   CS  BB    SO  IBB  HBP   SH   SF  GIDP  \n",
       "0       0.0  0.0   0   0.0  NaN  NaN  NaN  NaN   0.0  \n",
       "1       8.0  1.0   4   0.0  NaN  NaN  NaN  NaN   0.0  \n",
       "2       3.0  1.0   2   5.0  NaN  NaN  NaN  NaN   1.0  \n",
       "3       1.0  1.0   0   2.0  NaN  NaN  NaN  NaN   0.0  \n",
       "4       6.0  2.0   2   1.0  NaN  NaN  NaN  NaN   0.0  \n",
       "...     ...  ...  ..   ...  ...  ...  ...  ...   ...  \n",
       "107424  0.0  0.0   0   2.0  0.0  0.0  0.0  0.0   0.0  \n",
       "107425  0.0  0.0   0   0.0  0.0  0.0  0.0  0.0   0.0  \n",
       "107426  0.0  0.0  17  39.0  0.0  0.0  0.0  2.0   4.0  \n",
       "107427  0.0  0.0  23  24.0  0.0  1.0  0.0  2.0   6.0  \n",
       "107428  0.0  0.0  20  98.0  0.0  3.0  0.0  0.0   4.0  \n",
       "\n",
       "[107429 rows x 22 columns]"
      ]
     },
     "execution_count": 2,
     "metadata": {},
     "output_type": "execute_result"
    }
   ],
   "source": [
    "Bdata"
   ]
  },
  {
   "cell_type": "code",
   "execution_count": 3,
   "metadata": {},
   "outputs": [
    {
     "data": {
      "text/plain": [
       "149"
      ]
     },
     "execution_count": 3,
     "metadata": {},
     "output_type": "execute_result"
    }
   ],
   "source": [
    "#number of teams played \n",
    "team=Bdata[\"teamID\"].nunique()\n",
    "team"
   ]
  },
  {
   "cell_type": "code",
   "execution_count": 4,
   "metadata": {
    "scrolled": true
   },
   "outputs": [
    {
     "data": {
      "text/html": [
       "<div>\n",
       "<style scoped>\n",
       "    .dataframe tbody tr th:only-of-type {\n",
       "        vertical-align: middle;\n",
       "    }\n",
       "\n",
       "    .dataframe tbody tr th {\n",
       "        vertical-align: top;\n",
       "    }\n",
       "\n",
       "    .dataframe thead th {\n",
       "        text-align: right;\n",
       "    }\n",
       "</style>\n",
       "<table border=\"1\" class=\"dataframe\">\n",
       "  <thead>\n",
       "    <tr style=\"text-align: right;\">\n",
       "      <th></th>\n",
       "      <th>Hit</th>\n",
       "      <th>Run</th>\n",
       "      <th>Homerun</th>\n",
       "      <th>Strikeouts</th>\n",
       "    </tr>\n",
       "    <tr>\n",
       "      <th>teamID</th>\n",
       "      <th></th>\n",
       "      <th></th>\n",
       "      <th></th>\n",
       "      <th></th>\n",
       "    </tr>\n",
       "  </thead>\n",
       "  <tbody>\n",
       "    <tr>\n",
       "      <th>PHP</th>\n",
       "      <td>84.38</td>\n",
       "      <td>58.81</td>\n",
       "      <td>3.06</td>\n",
       "      <td>20.06</td>\n",
       "    </tr>\n",
       "    <tr>\n",
       "      <th>CHP</th>\n",
       "      <td>81.94</td>\n",
       "      <td>55.38</td>\n",
       "      <td>1.94</td>\n",
       "      <td>25.62</td>\n",
       "    </tr>\n",
       "    <tr>\n",
       "      <th>BRP</th>\n",
       "      <td>79.53</td>\n",
       "      <td>56.71</td>\n",
       "      <td>2.00</td>\n",
       "      <td>21.71</td>\n",
       "    </tr>\n",
       "    <tr>\n",
       "      <th>NYP</th>\n",
       "      <td>77.39</td>\n",
       "      <td>56.56</td>\n",
       "      <td>3.67</td>\n",
       "      <td>20.22</td>\n",
       "    </tr>\n",
       "    <tr>\n",
       "      <th>BSP</th>\n",
       "      <td>75.11</td>\n",
       "      <td>57.28</td>\n",
       "      <td>3.22</td>\n",
       "      <td>24.94</td>\n",
       "    </tr>\n",
       "    <tr>\n",
       "      <th>...</th>\n",
       "      <td>...</td>\n",
       "      <td>...</td>\n",
       "      <td>...</td>\n",
       "      <td>...</td>\n",
       "    </tr>\n",
       "    <tr>\n",
       "      <th>MLU</th>\n",
       "      <td>7.33</td>\n",
       "      <td>4.42</td>\n",
       "      <td>0.00</td>\n",
       "      <td>nan</td>\n",
       "    </tr>\n",
       "    <tr>\n",
       "      <th>WS4</th>\n",
       "      <td>7.07</td>\n",
       "      <td>5.71</td>\n",
       "      <td>0.00</td>\n",
       "      <td>0.21</td>\n",
       "    </tr>\n",
       "    <tr>\n",
       "      <th>WIL</th>\n",
       "      <td>4.55</td>\n",
       "      <td>1.75</td>\n",
       "      <td>0.10</td>\n",
       "      <td>nan</td>\n",
       "    </tr>\n",
       "    <tr>\n",
       "      <th>SPU</th>\n",
       "      <td>4.45</td>\n",
       "      <td>2.18</td>\n",
       "      <td>0.00</td>\n",
       "      <td>nan</td>\n",
       "    </tr>\n",
       "    <tr>\n",
       "      <th>BL4</th>\n",
       "      <td>1.74</td>\n",
       "      <td>1.37</td>\n",
       "      <td>0.00</td>\n",
       "      <td>0.16</td>\n",
       "    </tr>\n",
       "  </tbody>\n",
       "</table>\n",
       "<p>149 rows × 4 columns</p>\n",
       "</div>"
      ],
      "text/plain": [
       "          Hit    Run Homerun Strikeouts\n",
       "teamID                                 \n",
       "PHP     84.38  58.81    3.06      20.06\n",
       "CHP     81.94  55.38    1.94      25.62\n",
       "BRP     79.53  56.71    2.00      21.71\n",
       "NYP     77.39  56.56    3.67      20.22\n",
       "BSP     75.11  57.28    3.22      24.94\n",
       "...       ...    ...     ...        ...\n",
       "MLU      7.33   4.42    0.00        nan\n",
       "WS4      7.07   5.71    0.00       0.21\n",
       "WIL      4.55   1.75    0.10        nan\n",
       "SPU      4.45   2.18    0.00        nan\n",
       "BL4      1.74   1.37    0.00       0.16\n",
       "\n",
       "[149 rows x 4 columns]"
      ]
     },
     "execution_count": 4,
     "metadata": {},
     "output_type": "execute_result"
    }
   ],
   "source": [
    "#Finding average of hit, run and strikeouts for each team \n",
    "\n",
    "Hit= Bdata.groupby(\"teamID\").H.mean()\n",
    "Run= Bdata.groupby(\"teamID\").R.mean()\n",
    "Homerun= Bdata.groupby(\"teamID\").HR.mean()\n",
    "Strikeouts= Bdata.groupby(\"teamID\").SO.mean()\n",
    "\n",
    "B_Analysis = pd.DataFrame({\"Hit\":(Hit),\n",
    "                        \"Run\":(Run),\n",
    "                         \"Homerun\":(Homerun),\n",
    "                        \"Strikeouts\":(Strikeouts)\n",
    "                        })\n",
    "B_Analysis= B_Analysis.sort_values(\"Hit\",ascending=False)\n",
    "B_Analysis[\"Hit\"] = B_Analysis[\"Hit\"].astype(float).map(\"{:,.2f}\".format)\n",
    "B_Analysis[\"Run\"] = B_Analysis[\"Run\"].astype(float).map(\"{:,.2f}\".format)\n",
    "B_Analysis[\"Homerun\"] = B_Analysis[\"Homerun\"].astype(float).map(\"{:,.2f}\".format)\n",
    "B_Analysis[\"Strikeouts\"] = B_Analysis[\"Strikeouts\"].astype(float).map(\"{:,.2f}\".format)\n",
    "B_Analysis"
   ]
  },
  {
   "cell_type": "code",
   "execution_count": 5,
   "metadata": {},
   "outputs": [
    {
     "data": {
      "text/html": [
       "<div>\n",
       "<style scoped>\n",
       "    .dataframe tbody tr th:only-of-type {\n",
       "        vertical-align: middle;\n",
       "    }\n",
       "\n",
       "    .dataframe tbody tr th {\n",
       "        vertical-align: top;\n",
       "    }\n",
       "\n",
       "    .dataframe thead th {\n",
       "        text-align: right;\n",
       "    }\n",
       "</style>\n",
       "<table border=\"1\" class=\"dataframe\">\n",
       "  <thead>\n",
       "    <tr style=\"text-align: right;\">\n",
       "      <th></th>\n",
       "      <th>Hit</th>\n",
       "      <th>Run</th>\n",
       "      <th>Homerun</th>\n",
       "      <th>Strikeouts</th>\n",
       "    </tr>\n",
       "    <tr>\n",
       "      <th>teamID</th>\n",
       "      <th></th>\n",
       "      <th></th>\n",
       "      <th></th>\n",
       "      <th></th>\n",
       "    </tr>\n",
       "  </thead>\n",
       "  <tbody>\n",
       "    <tr>\n",
       "      <th>PHP</th>\n",
       "      <td>84.38</td>\n",
       "      <td>58.81</td>\n",
       "      <td>3.06</td>\n",
       "      <td>20.06</td>\n",
       "    </tr>\n",
       "    <tr>\n",
       "      <th>CHP</th>\n",
       "      <td>81.94</td>\n",
       "      <td>55.38</td>\n",
       "      <td>1.94</td>\n",
       "      <td>25.62</td>\n",
       "    </tr>\n",
       "    <tr>\n",
       "      <th>BRP</th>\n",
       "      <td>79.53</td>\n",
       "      <td>56.71</td>\n",
       "      <td>2.00</td>\n",
       "      <td>21.71</td>\n",
       "    </tr>\n",
       "    <tr>\n",
       "      <th>NYP</th>\n",
       "      <td>77.39</td>\n",
       "      <td>56.56</td>\n",
       "      <td>3.67</td>\n",
       "      <td>20.22</td>\n",
       "    </tr>\n",
       "    <tr>\n",
       "      <th>BSP</th>\n",
       "      <td>75.11</td>\n",
       "      <td>57.28</td>\n",
       "      <td>3.22</td>\n",
       "      <td>24.94</td>\n",
       "    </tr>\n",
       "    <tr>\n",
       "      <th>...</th>\n",
       "      <td>...</td>\n",
       "      <td>...</td>\n",
       "      <td>...</td>\n",
       "      <td>...</td>\n",
       "    </tr>\n",
       "    <tr>\n",
       "      <th>MLU</th>\n",
       "      <td>7.33</td>\n",
       "      <td>4.42</td>\n",
       "      <td>0.00</td>\n",
       "      <td>0</td>\n",
       "    </tr>\n",
       "    <tr>\n",
       "      <th>WS4</th>\n",
       "      <td>7.07</td>\n",
       "      <td>5.71</td>\n",
       "      <td>0.00</td>\n",
       "      <td>0.21</td>\n",
       "    </tr>\n",
       "    <tr>\n",
       "      <th>WIL</th>\n",
       "      <td>4.55</td>\n",
       "      <td>1.75</td>\n",
       "      <td>0.10</td>\n",
       "      <td>0</td>\n",
       "    </tr>\n",
       "    <tr>\n",
       "      <th>SPU</th>\n",
       "      <td>4.45</td>\n",
       "      <td>2.18</td>\n",
       "      <td>0.00</td>\n",
       "      <td>0</td>\n",
       "    </tr>\n",
       "    <tr>\n",
       "      <th>BL4</th>\n",
       "      <td>1.74</td>\n",
       "      <td>1.37</td>\n",
       "      <td>0.00</td>\n",
       "      <td>0.16</td>\n",
       "    </tr>\n",
       "  </tbody>\n",
       "</table>\n",
       "<p>149 rows × 4 columns</p>\n",
       "</div>"
      ],
      "text/plain": [
       "          Hit    Run Homerun Strikeouts\n",
       "teamID                                 \n",
       "PHP     84.38  58.81    3.06      20.06\n",
       "CHP     81.94  55.38    1.94      25.62\n",
       "BRP     79.53  56.71    2.00      21.71\n",
       "NYP     77.39  56.56    3.67      20.22\n",
       "BSP     75.11  57.28    3.22      24.94\n",
       "...       ...    ...     ...        ...\n",
       "MLU      7.33   4.42    0.00          0\n",
       "WS4      7.07   5.71    0.00       0.21\n",
       "WIL      4.55   1.75    0.10          0\n",
       "SPU      4.45   2.18    0.00          0\n",
       "BL4      1.74   1.37    0.00       0.16\n",
       "\n",
       "[149 rows x 4 columns]"
      ]
     },
     "execution_count": 5,
     "metadata": {},
     "output_type": "execute_result"
    }
   ],
   "source": [
    "#Fill nan values with 0\n",
    "filled= B_Analysis.replace('nan','0')\n",
    "filled"
   ]
  },
  {
   "cell_type": "code",
   "execution_count": 6,
   "metadata": {},
   "outputs": [
    {
     "data": {
      "text/plain": [
       "Hit           float64\n",
       "Run           float64\n",
       "Homerun       float64\n",
       "Strikeouts    float64\n",
       "dtype: object"
      ]
     },
     "execution_count": 6,
     "metadata": {},
     "output_type": "execute_result"
    }
   ],
   "source": [
    "#changing values from string to float\n",
    "filled[[\"Hit\",\"Run\",\"Homerun\",\"Strikeouts\"]]=filled[[\"Hit\",\"Run\",\"Homerun\",\"Strikeouts\"]].apply(pd.to_numeric)\n",
    "filled.dtypes"
   ]
  },
  {
   "cell_type": "code",
   "execution_count": 7,
   "metadata": {},
   "outputs": [
    {
     "data": {
      "text/html": [
       "<div>\n",
       "<style scoped>\n",
       "    .dataframe tbody tr th:only-of-type {\n",
       "        vertical-align: middle;\n",
       "    }\n",
       "\n",
       "    .dataframe tbody tr th {\n",
       "        vertical-align: top;\n",
       "    }\n",
       "\n",
       "    .dataframe thead th {\n",
       "        text-align: right;\n",
       "    }\n",
       "</style>\n",
       "<table border=\"1\" class=\"dataframe\">\n",
       "  <thead>\n",
       "    <tr style=\"text-align: right;\">\n",
       "      <th></th>\n",
       "      <th>Hit</th>\n",
       "      <th>Run</th>\n",
       "      <th>Homerun</th>\n",
       "      <th>Strikeouts</th>\n",
       "    </tr>\n",
       "    <tr>\n",
       "      <th>teamID</th>\n",
       "      <th></th>\n",
       "      <th></th>\n",
       "      <th></th>\n",
       "      <th></th>\n",
       "    </tr>\n",
       "  </thead>\n",
       "  <tbody>\n",
       "    <tr>\n",
       "      <th>PHP</th>\n",
       "      <td>84.38</td>\n",
       "      <td>58.81</td>\n",
       "      <td>3.06</td>\n",
       "      <td>20.06</td>\n",
       "    </tr>\n",
       "    <tr>\n",
       "      <th>CHP</th>\n",
       "      <td>81.94</td>\n",
       "      <td>55.38</td>\n",
       "      <td>1.94</td>\n",
       "      <td>25.62</td>\n",
       "    </tr>\n",
       "    <tr>\n",
       "      <th>BRP</th>\n",
       "      <td>79.53</td>\n",
       "      <td>56.71</td>\n",
       "      <td>2.00</td>\n",
       "      <td>21.71</td>\n",
       "    </tr>\n",
       "    <tr>\n",
       "      <th>NYP</th>\n",
       "      <td>77.39</td>\n",
       "      <td>56.56</td>\n",
       "      <td>3.67</td>\n",
       "      <td>20.22</td>\n",
       "    </tr>\n",
       "    <tr>\n",
       "      <th>BSP</th>\n",
       "      <td>75.11</td>\n",
       "      <td>57.28</td>\n",
       "      <td>3.22</td>\n",
       "      <td>24.94</td>\n",
       "    </tr>\n",
       "    <tr>\n",
       "      <th>BS1</th>\n",
       "      <td>71.33</td>\n",
       "      <td>55.64</td>\n",
       "      <td>0.95</td>\n",
       "      <td>2.78</td>\n",
       "    </tr>\n",
       "    <tr>\n",
       "      <th>PTP</th>\n",
       "      <td>71.29</td>\n",
       "      <td>49.94</td>\n",
       "      <td>2.06</td>\n",
       "      <td>22.41</td>\n",
       "    </tr>\n",
       "    <tr>\n",
       "      <th>CLP</th>\n",
       "      <td>65.24</td>\n",
       "      <td>40.43</td>\n",
       "      <td>1.29</td>\n",
       "      <td>16.43</td>\n",
       "    </tr>\n",
       "    <tr>\n",
       "      <th>BLN</th>\n",
       "      <td>62.64</td>\n",
       "      <td>39.05</td>\n",
       "      <td>0.97</td>\n",
       "      <td>12.49</td>\n",
       "    </tr>\n",
       "    <tr>\n",
       "      <th>BR3</th>\n",
       "      <td>60.67</td>\n",
       "      <td>40.97</td>\n",
       "      <td>1.28</td>\n",
       "      <td>22.26</td>\n",
       "    </tr>\n",
       "  </tbody>\n",
       "</table>\n",
       "</div>"
      ],
      "text/plain": [
       "          Hit    Run  Homerun  Strikeouts\n",
       "teamID                                   \n",
       "PHP     84.38  58.81     3.06       20.06\n",
       "CHP     81.94  55.38     1.94       25.62\n",
       "BRP     79.53  56.71     2.00       21.71\n",
       "NYP     77.39  56.56     3.67       20.22\n",
       "BSP     75.11  57.28     3.22       24.94\n",
       "BS1     71.33  55.64     0.95        2.78\n",
       "PTP     71.29  49.94     2.06       22.41\n",
       "CLP     65.24  40.43     1.29       16.43\n",
       "BLN     62.64  39.05     0.97       12.49\n",
       "BR3     60.67  40.97     1.28       22.26"
      ]
     },
     "execution_count": 7,
     "metadata": {},
     "output_type": "execute_result"
    }
   ],
   "source": [
    "#finding top 10 team using Hit and Run score\n",
    "top10=filled.head(10)\n",
    "top10"
   ]
  },
  {
   "cell_type": "code",
   "execution_count": 8,
   "metadata": {},
   "outputs": [
    {
     "data": {
      "text/plain": [
       "<AxesSubplot:xlabel='teamID', ylabel='Average Scores'>"
      ]
     },
     "execution_count": 8,
     "metadata": {},
     "output_type": "execute_result"
    },
    {
     "data": {
      "image/png": "[encoded data removed]",
      "text/plain": [
       "<Figure size 1440x432 with 1 Axes>"
      ]
     },
     "metadata": {
      "needs_background": "light"
     },
     "output_type": "display_data"
    }
   ],
   "source": [
    "# Generate a bar plot showing the teams vs average scores to see overall trend\n",
    "\n",
    "top10.plot(ylabel=\"Average Scores\",kind='bar', figsize=(20,6)) \n"
   ]
  },
  {
   "cell_type": "code",
   "execution_count": 9,
   "metadata": {
    "scrolled": true
   },
   "outputs": [
    {
     "data": {
      "text/plain": [
       "<AxesSubplot:xlabel='teamID', ylabel='Average Scores'>"
      ]
     },
     "execution_count": 9,
     "metadata": {},
     "output_type": "execute_result"
    },
    {
     "data": {
      "image/png": "[encoded data removed]",
      "text/plain": [
       "<Figure size 1440x432 with 1 Axes>"
      ]
     },
     "metadata": {
      "needs_background": "light"
     },
     "output_type": "display_data"
    }
   ],
   "source": [
    "# Generate a bar plot showing the teams vs average scores to see correlation between hit and run scores\n",
    "\n",
    "top10.plot(y=[\"Hit\",\"Run\"],ylabel=\"Average Scores\",kind='bar', figsize=(20,6))"
   ]
  },
  {
   "cell_type": "markdown",
   "metadata": {},
   "source": [
    "## data from 2010 to 2019"
   ]
  },
  {
   "cell_type": "code",
   "execution_count": 10,
   "metadata": {},
   "outputs": [
    {
     "data": {
      "text/html": [
       "<div>\n",
       "<style scoped>\n",
       "    .dataframe tbody tr th:only-of-type {\n",
       "        vertical-align: middle;\n",
       "    }\n",
       "\n",
       "    .dataframe tbody tr th {\n",
       "        vertical-align: top;\n",
       "    }\n",
       "\n",
       "    .dataframe thead th {\n",
       "        text-align: right;\n",
       "    }\n",
       "</style>\n",
       "<table border=\"1\" class=\"dataframe\">\n",
       "  <thead>\n",
       "    <tr style=\"text-align: right;\">\n",
       "      <th></th>\n",
       "      <th>playerID</th>\n",
       "      <th>yearID</th>\n",
       "      <th>stint</th>\n",
       "      <th>teamID</th>\n",
       "      <th>lgID</th>\n",
       "      <th>G</th>\n",
       "      <th>AB</th>\n",
       "      <th>R</th>\n",
       "      <th>H</th>\n",
       "      <th>2B</th>\n",
       "      <th>...</th>\n",
       "      <th>RBI</th>\n",
       "      <th>SB</th>\n",
       "      <th>CS</th>\n",
       "      <th>BB</th>\n",
       "      <th>SO</th>\n",
       "      <th>IBB</th>\n",
       "      <th>HBP</th>\n",
       "      <th>SH</th>\n",
       "      <th>SF</th>\n",
       "      <th>GIDP</th>\n",
       "    </tr>\n",
       "  </thead>\n",
       "  <tbody>\n",
       "    <tr>\n",
       "      <th>99863</th>\n",
       "      <td>aardsda01</td>\n",
       "      <td>2015</td>\n",
       "      <td>1</td>\n",
       "      <td>ATL</td>\n",
       "      <td>NL</td>\n",
       "      <td>33</td>\n",
       "      <td>1</td>\n",
       "      <td>0</td>\n",
       "      <td>0</td>\n",
       "      <td>0</td>\n",
       "      <td>...</td>\n",
       "      <td>0.0</td>\n",
       "      <td>0.0</td>\n",
       "      <td>0.0</td>\n",
       "      <td>0</td>\n",
       "      <td>1.0</td>\n",
       "      <td>0.0</td>\n",
       "      <td>0.0</td>\n",
       "      <td>0.0</td>\n",
       "      <td>0.0</td>\n",
       "      <td>0.0</td>\n",
       "    </tr>\n",
       "    <tr>\n",
       "      <th>99864</th>\n",
       "      <td>abadfe01</td>\n",
       "      <td>2015</td>\n",
       "      <td>1</td>\n",
       "      <td>OAK</td>\n",
       "      <td>AL</td>\n",
       "      <td>62</td>\n",
       "      <td>0</td>\n",
       "      <td>0</td>\n",
       "      <td>0</td>\n",
       "      <td>0</td>\n",
       "      <td>...</td>\n",
       "      <td>0.0</td>\n",
       "      <td>0.0</td>\n",
       "      <td>0.0</td>\n",
       "      <td>0</td>\n",
       "      <td>0.0</td>\n",
       "      <td>0.0</td>\n",
       "      <td>0.0</td>\n",
       "      <td>0.0</td>\n",
       "      <td>0.0</td>\n",
       "      <td>0.0</td>\n",
       "    </tr>\n",
       "    <tr>\n",
       "      <th>99865</th>\n",
       "      <td>abreujo02</td>\n",
       "      <td>2015</td>\n",
       "      <td>1</td>\n",
       "      <td>CHA</td>\n",
       "      <td>AL</td>\n",
       "      <td>154</td>\n",
       "      <td>613</td>\n",
       "      <td>88</td>\n",
       "      <td>178</td>\n",
       "      <td>34</td>\n",
       "      <td>...</td>\n",
       "      <td>101.0</td>\n",
       "      <td>0.0</td>\n",
       "      <td>0.0</td>\n",
       "      <td>39</td>\n",
       "      <td>140.0</td>\n",
       "      <td>11.0</td>\n",
       "      <td>15.0</td>\n",
       "      <td>0.0</td>\n",
       "      <td>1.0</td>\n",
       "      <td>16.0</td>\n",
       "    </tr>\n",
       "    <tr>\n",
       "      <th>99866</th>\n",
       "      <td>achteaj01</td>\n",
       "      <td>2015</td>\n",
       "      <td>1</td>\n",
       "      <td>MIN</td>\n",
       "      <td>AL</td>\n",
       "      <td>11</td>\n",
       "      <td>0</td>\n",
       "      <td>0</td>\n",
       "      <td>0</td>\n",
       "      <td>0</td>\n",
       "      <td>...</td>\n",
       "      <td>0.0</td>\n",
       "      <td>0.0</td>\n",
       "      <td>0.0</td>\n",
       "      <td>0</td>\n",
       "      <td>0.0</td>\n",
       "      <td>0.0</td>\n",
       "      <td>0.0</td>\n",
       "      <td>0.0</td>\n",
       "      <td>0.0</td>\n",
       "      <td>0.0</td>\n",
       "    </tr>\n",
       "    <tr>\n",
       "      <th>99867</th>\n",
       "      <td>ackledu01</td>\n",
       "      <td>2015</td>\n",
       "      <td>1</td>\n",
       "      <td>SEA</td>\n",
       "      <td>AL</td>\n",
       "      <td>85</td>\n",
       "      <td>186</td>\n",
       "      <td>22</td>\n",
       "      <td>40</td>\n",
       "      <td>8</td>\n",
       "      <td>...</td>\n",
       "      <td>19.0</td>\n",
       "      <td>2.0</td>\n",
       "      <td>2.0</td>\n",
       "      <td>14</td>\n",
       "      <td>38.0</td>\n",
       "      <td>0.0</td>\n",
       "      <td>1.0</td>\n",
       "      <td>3.0</td>\n",
       "      <td>3.0</td>\n",
       "      <td>3.0</td>\n",
       "    </tr>\n",
       "    <tr>\n",
       "      <th>...</th>\n",
       "      <td>...</td>\n",
       "      <td>...</td>\n",
       "      <td>...</td>\n",
       "      <td>...</td>\n",
       "      <td>...</td>\n",
       "      <td>...</td>\n",
       "      <td>...</td>\n",
       "      <td>...</td>\n",
       "      <td>...</td>\n",
       "      <td>...</td>\n",
       "      <td>...</td>\n",
       "      <td>...</td>\n",
       "      <td>...</td>\n",
       "      <td>...</td>\n",
       "      <td>...</td>\n",
       "      <td>...</td>\n",
       "      <td>...</td>\n",
       "      <td>...</td>\n",
       "      <td>...</td>\n",
       "      <td>...</td>\n",
       "      <td>...</td>\n",
       "    </tr>\n",
       "    <tr>\n",
       "      <th>107424</th>\n",
       "      <td>zimmejo02</td>\n",
       "      <td>2019</td>\n",
       "      <td>1</td>\n",
       "      <td>DET</td>\n",
       "      <td>AL</td>\n",
       "      <td>23</td>\n",
       "      <td>2</td>\n",
       "      <td>0</td>\n",
       "      <td>0</td>\n",
       "      <td>0</td>\n",
       "      <td>...</td>\n",
       "      <td>0.0</td>\n",
       "      <td>0.0</td>\n",
       "      <td>0.0</td>\n",
       "      <td>0</td>\n",
       "      <td>2.0</td>\n",
       "      <td>0.0</td>\n",
       "      <td>0.0</td>\n",
       "      <td>0.0</td>\n",
       "      <td>0.0</td>\n",
       "      <td>0.0</td>\n",
       "    </tr>\n",
       "    <tr>\n",
       "      <th>107425</th>\n",
       "      <td>zimmeky01</td>\n",
       "      <td>2019</td>\n",
       "      <td>1</td>\n",
       "      <td>KCA</td>\n",
       "      <td>AL</td>\n",
       "      <td>15</td>\n",
       "      <td>0</td>\n",
       "      <td>0</td>\n",
       "      <td>0</td>\n",
       "      <td>0</td>\n",
       "      <td>...</td>\n",
       "      <td>0.0</td>\n",
       "      <td>0.0</td>\n",
       "      <td>0.0</td>\n",
       "      <td>0</td>\n",
       "      <td>0.0</td>\n",
       "      <td>0.0</td>\n",
       "      <td>0.0</td>\n",
       "      <td>0.0</td>\n",
       "      <td>0.0</td>\n",
       "      <td>0.0</td>\n",
       "    </tr>\n",
       "    <tr>\n",
       "      <th>107426</th>\n",
       "      <td>zimmery01</td>\n",
       "      <td>2019</td>\n",
       "      <td>1</td>\n",
       "      <td>WAS</td>\n",
       "      <td>NL</td>\n",
       "      <td>52</td>\n",
       "      <td>171</td>\n",
       "      <td>20</td>\n",
       "      <td>44</td>\n",
       "      <td>9</td>\n",
       "      <td>...</td>\n",
       "      <td>27.0</td>\n",
       "      <td>0.0</td>\n",
       "      <td>0.0</td>\n",
       "      <td>17</td>\n",
       "      <td>39.0</td>\n",
       "      <td>0.0</td>\n",
       "      <td>0.0</td>\n",
       "      <td>0.0</td>\n",
       "      <td>2.0</td>\n",
       "      <td>4.0</td>\n",
       "    </tr>\n",
       "    <tr>\n",
       "      <th>107427</th>\n",
       "      <td>zobribe01</td>\n",
       "      <td>2019</td>\n",
       "      <td>1</td>\n",
       "      <td>CHN</td>\n",
       "      <td>NL</td>\n",
       "      <td>47</td>\n",
       "      <td>150</td>\n",
       "      <td>24</td>\n",
       "      <td>39</td>\n",
       "      <td>5</td>\n",
       "      <td>...</td>\n",
       "      <td>17.0</td>\n",
       "      <td>0.0</td>\n",
       "      <td>0.0</td>\n",
       "      <td>23</td>\n",
       "      <td>24.0</td>\n",
       "      <td>0.0</td>\n",
       "      <td>1.0</td>\n",
       "      <td>0.0</td>\n",
       "      <td>2.0</td>\n",
       "      <td>6.0</td>\n",
       "    </tr>\n",
       "    <tr>\n",
       "      <th>107428</th>\n",
       "      <td>zuninmi01</td>\n",
       "      <td>2019</td>\n",
       "      <td>1</td>\n",
       "      <td>TBA</td>\n",
       "      <td>AL</td>\n",
       "      <td>90</td>\n",
       "      <td>266</td>\n",
       "      <td>30</td>\n",
       "      <td>44</td>\n",
       "      <td>10</td>\n",
       "      <td>...</td>\n",
       "      <td>32.0</td>\n",
       "      <td>0.0</td>\n",
       "      <td>0.0</td>\n",
       "      <td>20</td>\n",
       "      <td>98.0</td>\n",
       "      <td>0.0</td>\n",
       "      <td>3.0</td>\n",
       "      <td>0.0</td>\n",
       "      <td>0.0</td>\n",
       "      <td>4.0</td>\n",
       "    </tr>\n",
       "  </tbody>\n",
       "</table>\n",
       "<p>7566 rows × 22 columns</p>\n",
       "</div>"
      ],
      "text/plain": [
       "         playerID  yearID  stint teamID lgID    G   AB   R    H  2B  ...  \\\n",
       "99863   aardsda01    2015      1    ATL   NL   33    1   0    0   0  ...   \n",
       "99864    abadfe01    2015      1    OAK   AL   62    0   0    0   0  ...   \n",
       "99865   abreujo02    2015      1    CHA   AL  154  613  88  178  34  ...   \n",
       "99866   achteaj01    2015      1    MIN   AL   11    0   0    0   0  ...   \n",
       "99867   ackledu01    2015      1    SEA   AL   85  186  22   40   8  ...   \n",
       "...           ...     ...    ...    ...  ...  ...  ...  ..  ...  ..  ...   \n",
       "107424  zimmejo02    2019      1    DET   AL   23    2   0    0   0  ...   \n",
       "107425  zimmeky01    2019      1    KCA   AL   15    0   0    0   0  ...   \n",
       "107426  zimmery01    2019      1    WAS   NL   52  171  20   44   9  ...   \n",
       "107427  zobribe01    2019      1    CHN   NL   47  150  24   39   5  ...   \n",
       "107428  zuninmi01    2019      1    TBA   AL   90  266  30   44  10  ...   \n",
       "\n",
       "          RBI   SB   CS  BB     SO   IBB   HBP   SH   SF  GIDP  \n",
       "99863     0.0  0.0  0.0   0    1.0   0.0   0.0  0.0  0.0   0.0  \n",
       "99864     0.0  0.0  0.0   0    0.0   0.0   0.0  0.0  0.0   0.0  \n",
       "99865   101.0  0.0  0.0  39  140.0  11.0  15.0  0.0  1.0  16.0  \n",
       "99866     0.0  0.0  0.0   0    0.0   0.0   0.0  0.0  0.0   0.0  \n",
       "99867    19.0  2.0  2.0  14   38.0   0.0   1.0  3.0  3.0   3.0  \n",
       "...       ...  ...  ...  ..    ...   ...   ...  ...  ...   ...  \n",
       "107424    0.0  0.0  0.0   0    2.0   0.0   0.0  0.0  0.0   0.0  \n",
       "107425    0.0  0.0  0.0   0    0.0   0.0   0.0  0.0  0.0   0.0  \n",
       "107426   27.0  0.0  0.0  17   39.0   0.0   0.0  0.0  2.0   4.0  \n",
       "107427   17.0  0.0  0.0  23   24.0   0.0   1.0  0.0  2.0   6.0  \n",
       "107428   32.0  0.0  0.0  20   98.0   0.0   3.0  0.0  0.0   4.0  \n",
       "\n",
       "[7566 rows x 22 columns]"
      ]
     },
     "execution_count": 10,
     "metadata": {},
     "output_type": "execute_result"
    }
   ],
   "source": [
    "#pulling data from 2010 to 2019\n",
    "last5yr = Bdata.loc[(2014 < Bdata['yearID']) & (Bdata['yearID']  < 2020)] \n",
    "last5yr"
   ]
  },
  {
   "cell_type": "code",
   "execution_count": 11,
   "metadata": {},
   "outputs": [
    {
     "data": {
      "text/plain": [
       "30"
      ]
     },
     "execution_count": 11,
     "metadata": {},
     "output_type": "execute_result"
    }
   ],
   "source": [
    "#how many team are there in the last 10 year?\n",
    "last5yr[\"teamID\"].nunique()\n"
   ]
  },
  {
   "cell_type": "code",
   "execution_count": 12,
   "metadata": {},
   "outputs": [
    {
     "data": {
      "text/plain": [
       "array(['ATL', 'OAK', 'CHA', 'MIN', 'SEA', 'NYA', 'COL', 'CLE', 'SLN',\n",
       "       'CIN', 'SFN', 'ARI', 'TOR', 'TEX', 'DET', 'CHN', 'KCA', 'SDN',\n",
       "       'PHI', 'HOU', 'NYN', 'BAL', 'MIA', 'LAA', 'PIT', 'LAN', 'TBA',\n",
       "       'BOS', 'MIL', 'WAS'], dtype=object)"
      ]
     },
     "execution_count": 12,
     "metadata": {},
     "output_type": "execute_result"
    }
   ],
   "source": [
    "#teams name from 2010-2019\n",
    "teamdata = last5yr[\"teamID\"].unique()\n",
    "teamdata"
   ]
  },
  {
   "cell_type": "code",
   "execution_count": 13,
   "metadata": {},
   "outputs": [
    {
     "data": {
      "text/plain": [
       "Index(['PHP', 'CHP', 'BRP', 'NYP', 'BSP', 'BS1', 'PTP', 'CLP', 'BLN', 'BR3'], dtype='object', name='teamID')"
      ]
     },
     "execution_count": 13,
     "metadata": {},
     "output_type": "execute_result"
    }
   ],
   "source": [
    "#teams name from 1871-2019: top 10 team based on Hit and run sore\n",
    "top10.index\n"
   ]
  },
  {
   "cell_type": "code",
   "execution_count": 14,
   "metadata": {},
   "outputs": [
    {
     "data": {
      "text/html": [
       "<div>\n",
       "<style scoped>\n",
       "    .dataframe tbody tr th:only-of-type {\n",
       "        vertical-align: middle;\n",
       "    }\n",
       "\n",
       "    .dataframe tbody tr th {\n",
       "        vertical-align: top;\n",
       "    }\n",
       "\n",
       "    .dataframe thead th {\n",
       "        text-align: right;\n",
       "    }\n",
       "</style>\n",
       "<table border=\"1\" class=\"dataframe\">\n",
       "  <thead>\n",
       "    <tr style=\"text-align: right;\">\n",
       "      <th></th>\n",
       "      <th>playerID</th>\n",
       "      <th>yearID</th>\n",
       "      <th>stint</th>\n",
       "      <th>teamID</th>\n",
       "      <th>lgID</th>\n",
       "      <th>G</th>\n",
       "      <th>AB</th>\n",
       "      <th>R</th>\n",
       "      <th>H</th>\n",
       "      <th>2B</th>\n",
       "      <th>...</th>\n",
       "      <th>RBI</th>\n",
       "      <th>SB</th>\n",
       "      <th>CS</th>\n",
       "      <th>BB</th>\n",
       "      <th>SO</th>\n",
       "      <th>IBB</th>\n",
       "      <th>HBP</th>\n",
       "      <th>SH</th>\n",
       "      <th>SF</th>\n",
       "      <th>GIDP</th>\n",
       "    </tr>\n",
       "  </thead>\n",
       "  <tbody>\n",
       "    <tr>\n",
       "      <th>7</th>\n",
       "      <td>barnero01</td>\n",
       "      <td>1871</td>\n",
       "      <td>1</td>\n",
       "      <td>BS1</td>\n",
       "      <td>NaN</td>\n",
       "      <td>31</td>\n",
       "      <td>157</td>\n",
       "      <td>66</td>\n",
       "      <td>63</td>\n",
       "      <td>10</td>\n",
       "      <td>...</td>\n",
       "      <td>34.0</td>\n",
       "      <td>11.0</td>\n",
       "      <td>6.0</td>\n",
       "      <td>13</td>\n",
       "      <td>1.0</td>\n",
       "      <td>NaN</td>\n",
       "      <td>NaN</td>\n",
       "      <td>NaN</td>\n",
       "      <td>NaN</td>\n",
       "      <td>1.0</td>\n",
       "    </tr>\n",
       "    <tr>\n",
       "      <th>9</th>\n",
       "      <td>barrofr01</td>\n",
       "      <td>1871</td>\n",
       "      <td>1</td>\n",
       "      <td>BS1</td>\n",
       "      <td>NaN</td>\n",
       "      <td>18</td>\n",
       "      <td>86</td>\n",
       "      <td>13</td>\n",
       "      <td>13</td>\n",
       "      <td>2</td>\n",
       "      <td>...</td>\n",
       "      <td>11.0</td>\n",
       "      <td>1.0</td>\n",
       "      <td>0.0</td>\n",
       "      <td>0</td>\n",
       "      <td>0.0</td>\n",
       "      <td>NaN</td>\n",
       "      <td>NaN</td>\n",
       "      <td>NaN</td>\n",
       "      <td>NaN</td>\n",
       "      <td>0.0</td>\n",
       "    </tr>\n",
       "    <tr>\n",
       "      <th>21</th>\n",
       "      <td>birdsda01</td>\n",
       "      <td>1871</td>\n",
       "      <td>1</td>\n",
       "      <td>BS1</td>\n",
       "      <td>NaN</td>\n",
       "      <td>29</td>\n",
       "      <td>152</td>\n",
       "      <td>51</td>\n",
       "      <td>46</td>\n",
       "      <td>3</td>\n",
       "      <td>...</td>\n",
       "      <td>24.0</td>\n",
       "      <td>6.0</td>\n",
       "      <td>0.0</td>\n",
       "      <td>4</td>\n",
       "      <td>4.0</td>\n",
       "      <td>NaN</td>\n",
       "      <td>NaN</td>\n",
       "      <td>NaN</td>\n",
       "      <td>NaN</td>\n",
       "      <td>1.0</td>\n",
       "    </tr>\n",
       "    <tr>\n",
       "      <th>27</th>\n",
       "      <td>conefr01</td>\n",
       "      <td>1871</td>\n",
       "      <td>1</td>\n",
       "      <td>BS1</td>\n",
       "      <td>NaN</td>\n",
       "      <td>19</td>\n",
       "      <td>77</td>\n",
       "      <td>17</td>\n",
       "      <td>20</td>\n",
       "      <td>3</td>\n",
       "      <td>...</td>\n",
       "      <td>16.0</td>\n",
       "      <td>12.0</td>\n",
       "      <td>1.0</td>\n",
       "      <td>8</td>\n",
       "      <td>2.0</td>\n",
       "      <td>NaN</td>\n",
       "      <td>NaN</td>\n",
       "      <td>NaN</td>\n",
       "      <td>NaN</td>\n",
       "      <td>1.0</td>\n",
       "    </tr>\n",
       "    <tr>\n",
       "      <th>48</th>\n",
       "      <td>gouldch01</td>\n",
       "      <td>1871</td>\n",
       "      <td>1</td>\n",
       "      <td>BS1</td>\n",
       "      <td>NaN</td>\n",
       "      <td>31</td>\n",
       "      <td>151</td>\n",
       "      <td>38</td>\n",
       "      <td>43</td>\n",
       "      <td>9</td>\n",
       "      <td>...</td>\n",
       "      <td>32.0</td>\n",
       "      <td>6.0</td>\n",
       "      <td>2.0</td>\n",
       "      <td>3</td>\n",
       "      <td>1.0</td>\n",
       "      <td>NaN</td>\n",
       "      <td>NaN</td>\n",
       "      <td>NaN</td>\n",
       "      <td>NaN</td>\n",
       "      <td>1.0</td>\n",
       "    </tr>\n",
       "    <tr>\n",
       "      <th>...</th>\n",
       "      <td>...</td>\n",
       "      <td>...</td>\n",
       "      <td>...</td>\n",
       "      <td>...</td>\n",
       "      <td>...</td>\n",
       "      <td>...</td>\n",
       "      <td>...</td>\n",
       "      <td>...</td>\n",
       "      <td>...</td>\n",
       "      <td>...</td>\n",
       "      <td>...</td>\n",
       "      <td>...</td>\n",
       "      <td>...</td>\n",
       "      <td>...</td>\n",
       "      <td>...</td>\n",
       "      <td>...</td>\n",
       "      <td>...</td>\n",
       "      <td>...</td>\n",
       "      <td>...</td>\n",
       "      <td>...</td>\n",
       "      <td>...</td>\n",
       "    </tr>\n",
       "    <tr>\n",
       "      <th>7839</th>\n",
       "      <td>robinwi01</td>\n",
       "      <td>1899</td>\n",
       "      <td>1</td>\n",
       "      <td>BLN</td>\n",
       "      <td>NL</td>\n",
       "      <td>108</td>\n",
       "      <td>356</td>\n",
       "      <td>40</td>\n",
       "      <td>101</td>\n",
       "      <td>15</td>\n",
       "      <td>...</td>\n",
       "      <td>47.0</td>\n",
       "      <td>5.0</td>\n",
       "      <td>NaN</td>\n",
       "      <td>31</td>\n",
       "      <td>25.0</td>\n",
       "      <td>NaN</td>\n",
       "      <td>2.0</td>\n",
       "      <td>6.0</td>\n",
       "      <td>NaN</td>\n",
       "      <td>NaN</td>\n",
       "    </tr>\n",
       "    <tr>\n",
       "      <th>7841</th>\n",
       "      <td>rothebo01</td>\n",
       "      <td>1899</td>\n",
       "      <td>1</td>\n",
       "      <td>BLN</td>\n",
       "      <td>NL</td>\n",
       "      <td>10</td>\n",
       "      <td>21</td>\n",
       "      <td>1</td>\n",
       "      <td>2</td>\n",
       "      <td>0</td>\n",
       "      <td>...</td>\n",
       "      <td>3.0</td>\n",
       "      <td>0.0</td>\n",
       "      <td>NaN</td>\n",
       "      <td>1</td>\n",
       "      <td>1.0</td>\n",
       "      <td>NaN</td>\n",
       "      <td>0.0</td>\n",
       "      <td>1.0</td>\n",
       "      <td>NaN</td>\n",
       "      <td>NaN</td>\n",
       "    </tr>\n",
       "    <tr>\n",
       "      <th>7842</th>\n",
       "      <td>ryanja01</td>\n",
       "      <td>1899</td>\n",
       "      <td>1</td>\n",
       "      <td>BLN</td>\n",
       "      <td>NL</td>\n",
       "      <td>2</td>\n",
       "      <td>4</td>\n",
       "      <td>0</td>\n",
       "      <td>2</td>\n",
       "      <td>1</td>\n",
       "      <td>...</td>\n",
       "      <td>1.0</td>\n",
       "      <td>1.0</td>\n",
       "      <td>NaN</td>\n",
       "      <td>0</td>\n",
       "      <td>0.0</td>\n",
       "      <td>NaN</td>\n",
       "      <td>0.0</td>\n",
       "      <td>0.0</td>\n",
       "      <td>NaN</td>\n",
       "      <td>NaN</td>\n",
       "    </tr>\n",
       "    <tr>\n",
       "      <th>7854</th>\n",
       "      <td>sheckji01</td>\n",
       "      <td>1899</td>\n",
       "      <td>1</td>\n",
       "      <td>BLN</td>\n",
       "      <td>NL</td>\n",
       "      <td>147</td>\n",
       "      <td>536</td>\n",
       "      <td>104</td>\n",
       "      <td>158</td>\n",
       "      <td>18</td>\n",
       "      <td>...</td>\n",
       "      <td>75.0</td>\n",
       "      <td>77.0</td>\n",
       "      <td>NaN</td>\n",
       "      <td>56</td>\n",
       "      <td>51.0</td>\n",
       "      <td>NaN</td>\n",
       "      <td>18.0</td>\n",
       "      <td>6.0</td>\n",
       "      <td>NaN</td>\n",
       "      <td>NaN</td>\n",
       "    </tr>\n",
       "    <tr>\n",
       "      <th>7857</th>\n",
       "      <td>smithal01</td>\n",
       "      <td>1899</td>\n",
       "      <td>2</td>\n",
       "      <td>BLN</td>\n",
       "      <td>NL</td>\n",
       "      <td>41</td>\n",
       "      <td>120</td>\n",
       "      <td>17</td>\n",
       "      <td>46</td>\n",
       "      <td>6</td>\n",
       "      <td>...</td>\n",
       "      <td>25.0</td>\n",
       "      <td>7.0</td>\n",
       "      <td>NaN</td>\n",
       "      <td>4</td>\n",
       "      <td>11.0</td>\n",
       "      <td>NaN</td>\n",
       "      <td>3.0</td>\n",
       "      <td>3.0</td>\n",
       "      <td>NaN</td>\n",
       "      <td>NaN</td>\n",
       "    </tr>\n",
       "  </tbody>\n",
       "</table>\n",
       "<p>485 rows × 22 columns</p>\n",
       "</div>"
      ],
      "text/plain": [
       "       playerID  yearID  stint teamID lgID    G   AB    R    H  2B  ...   RBI  \\\n",
       "7     barnero01    1871      1    BS1  NaN   31  157   66   63  10  ...  34.0   \n",
       "9     barrofr01    1871      1    BS1  NaN   18   86   13   13   2  ...  11.0   \n",
       "21    birdsda01    1871      1    BS1  NaN   29  152   51   46   3  ...  24.0   \n",
       "27     conefr01    1871      1    BS1  NaN   19   77   17   20   3  ...  16.0   \n",
       "48    gouldch01    1871      1    BS1  NaN   31  151   38   43   9  ...  32.0   \n",
       "...         ...     ...    ...    ...  ...  ...  ...  ...  ...  ..  ...   ...   \n",
       "7839  robinwi01    1899      1    BLN   NL  108  356   40  101  15  ...  47.0   \n",
       "7841  rothebo01    1899      1    BLN   NL   10   21    1    2   0  ...   3.0   \n",
       "7842   ryanja01    1899      1    BLN   NL    2    4    0    2   1  ...   1.0   \n",
       "7854  sheckji01    1899      1    BLN   NL  147  536  104  158  18  ...  75.0   \n",
       "7857  smithal01    1899      2    BLN   NL   41  120   17   46   6  ...  25.0   \n",
       "\n",
       "        SB   CS  BB    SO  IBB   HBP   SH  SF  GIDP  \n",
       "7     11.0  6.0  13   1.0  NaN   NaN  NaN NaN   1.0  \n",
       "9      1.0  0.0   0   0.0  NaN   NaN  NaN NaN   0.0  \n",
       "21     6.0  0.0   4   4.0  NaN   NaN  NaN NaN   1.0  \n",
       "27    12.0  1.0   8   2.0  NaN   NaN  NaN NaN   1.0  \n",
       "48     6.0  2.0   3   1.0  NaN   NaN  NaN NaN   1.0  \n",
       "...    ...  ...  ..   ...  ...   ...  ...  ..   ...  \n",
       "7839   5.0  NaN  31  25.0  NaN   2.0  6.0 NaN   NaN  \n",
       "7841   0.0  NaN   1   1.0  NaN   0.0  1.0 NaN   NaN  \n",
       "7842   1.0  NaN   0   0.0  NaN   0.0  0.0 NaN   NaN  \n",
       "7854  77.0  NaN  56  51.0  NaN  18.0  6.0 NaN   NaN  \n",
       "7857   7.0  NaN   4  11.0  NaN   3.0  3.0 NaN   NaN  \n",
       "\n",
       "[485 rows x 22 columns]"
      ]
     },
     "execution_count": 14,
     "metadata": {},
     "output_type": "execute_result"
    }
   ],
   "source": [
    "#in these top 10 team, the year they played were from 1871-1899\n",
    "data = Bdata.loc[Bdata[\"teamID\"].isin(['PHP', 'CHP', 'BRP', 'NYP', 'BSP', 'BS1', 'PTP', 'CLP', 'BLN', 'BR3'])]\n",
    "data"
   ]
  },
  {
   "cell_type": "code",
   "execution_count": 15,
   "metadata": {
    "scrolled": true
   },
   "outputs": [],
   "source": [
    "#Observation: \n",
    "    #the team from 1871 to 2019 data has changed overtime. \n",
    "    #all those don't exist anymore. therefore, I go forward with the most current data using teams in the last 5 years to move forward.\n",
    "    "
   ]
  },
  {
   "cell_type": "code",
   "execution_count": 16,
   "metadata": {},
   "outputs": [
    {
     "data": {
      "text/html": [
       "<div>\n",
       "<style scoped>\n",
       "    .dataframe tbody tr th:only-of-type {\n",
       "        vertical-align: middle;\n",
       "    }\n",
       "\n",
       "    .dataframe tbody tr th {\n",
       "        vertical-align: top;\n",
       "    }\n",
       "\n",
       "    .dataframe thead th {\n",
       "        text-align: right;\n",
       "    }\n",
       "</style>\n",
       "<table border=\"1\" class=\"dataframe\">\n",
       "  <thead>\n",
       "    <tr style=\"text-align: right;\">\n",
       "      <th></th>\n",
       "      <th></th>\n",
       "      <th>Hit</th>\n",
       "      <th>Run</th>\n",
       "    </tr>\n",
       "    <tr>\n",
       "      <th>teamID</th>\n",
       "      <th>yearID</th>\n",
       "      <th></th>\n",
       "      <th></th>\n",
       "    </tr>\n",
       "  </thead>\n",
       "  <tbody>\n",
       "    <tr>\n",
       "      <th rowspan=\"5\" valign=\"top\">ARI</th>\n",
       "      <th>2015</th>\n",
       "      <td>29.880000</td>\n",
       "      <td>14.400000</td>\n",
       "    </tr>\n",
       "    <tr>\n",
       "      <th>2016</th>\n",
       "      <td>29.580000</td>\n",
       "      <td>15.040000</td>\n",
       "    </tr>\n",
       "    <tr>\n",
       "      <th>2017</th>\n",
       "      <td>31.222222</td>\n",
       "      <td>18.044444</td>\n",
       "    </tr>\n",
       "    <tr>\n",
       "      <th>2018</th>\n",
       "      <td>26.183673</td>\n",
       "      <td>14.142857</td>\n",
       "    </tr>\n",
       "    <tr>\n",
       "      <th>2019</th>\n",
       "      <td>31.533333</td>\n",
       "      <td>18.066667</td>\n",
       "    </tr>\n",
       "    <tr>\n",
       "      <th>...</th>\n",
       "      <th>...</th>\n",
       "      <td>...</td>\n",
       "      <td>...</td>\n",
       "    </tr>\n",
       "    <tr>\n",
       "      <th rowspan=\"5\" valign=\"top\">WAS</th>\n",
       "      <th>2015</th>\n",
       "      <td>30.977273</td>\n",
       "      <td>15.977273</td>\n",
       "    </tr>\n",
       "    <tr>\n",
       "      <th>2016</th>\n",
       "      <td>32.627907</td>\n",
       "      <td>17.744186</td>\n",
       "    </tr>\n",
       "    <tr>\n",
       "      <th>2017</th>\n",
       "      <td>30.142857</td>\n",
       "      <td>16.714286</td>\n",
       "    </tr>\n",
       "    <tr>\n",
       "      <th>2018</th>\n",
       "      <td>26.452830</td>\n",
       "      <td>14.547170</td>\n",
       "    </tr>\n",
       "    <tr>\n",
       "      <th>2019</th>\n",
       "      <td>29.200000</td>\n",
       "      <td>17.460000</td>\n",
       "    </tr>\n",
       "  </tbody>\n",
       "</table>\n",
       "<p>150 rows × 2 columns</p>\n",
       "</div>"
      ],
      "text/plain": [
       "                     Hit        Run\n",
       "teamID yearID                      \n",
       "ARI    2015    29.880000  14.400000\n",
       "       2016    29.580000  15.040000\n",
       "       2017    31.222222  18.044444\n",
       "       2018    26.183673  14.142857\n",
       "       2019    31.533333  18.066667\n",
       "...                  ...        ...\n",
       "WAS    2015    30.977273  15.977273\n",
       "       2016    32.627907  17.744186\n",
       "       2017    30.142857  16.714286\n",
       "       2018    26.452830  14.547170\n",
       "       2019    29.200000  17.460000\n",
       "\n",
       "[150 rows x 2 columns]"
      ]
     },
     "execution_count": 16,
     "metadata": {},
     "output_type": "execute_result"
    }
   ],
   "source": [
    "#Average score of each team in each year\n",
    "Hit_df= last5yr.groupby([\"teamID\",'yearID']).H.mean()\n",
    "Run_df= last5yr.groupby([\"teamID\",'yearID']).R.mean()\n",
    "\n",
    "Analysis = pd.DataFrame({\"Hit\":(Hit_df),\n",
    "                        \"Run\":(Run_df)\n",
    "                        })\n",
    "\n",
    "Analysis"
   ]
  },
  {
   "cell_type": "code",
   "execution_count": 17,
   "metadata": {},
   "outputs": [
    {
     "data": {
      "text/html": [
       "<div>\n",
       "<style scoped>\n",
       "    .dataframe tbody tr th:only-of-type {\n",
       "        vertical-align: middle;\n",
       "    }\n",
       "\n",
       "    .dataframe tbody tr th {\n",
       "        vertical-align: top;\n",
       "    }\n",
       "\n",
       "    .dataframe thead th {\n",
       "        text-align: right;\n",
       "    }\n",
       "</style>\n",
       "<table border=\"1\" class=\"dataframe\">\n",
       "  <thead>\n",
       "    <tr style=\"text-align: right;\">\n",
       "      <th></th>\n",
       "      <th>teamID</th>\n",
       "      <th>yearID</th>\n",
       "      <th>Hit</th>\n",
       "      <th>Run</th>\n",
       "    </tr>\n",
       "  </thead>\n",
       "  <tbody>\n",
       "    <tr>\n",
       "      <th>0</th>\n",
       "      <td>ARI</td>\n",
       "      <td>2015</td>\n",
       "      <td>29.880000</td>\n",
       "      <td>14.400000</td>\n",
       "    </tr>\n",
       "    <tr>\n",
       "      <th>1</th>\n",
       "      <td>ARI</td>\n",
       "      <td>2016</td>\n",
       "      <td>29.580000</td>\n",
       "      <td>15.040000</td>\n",
       "    </tr>\n",
       "    <tr>\n",
       "      <th>2</th>\n",
       "      <td>ARI</td>\n",
       "      <td>2017</td>\n",
       "      <td>31.222222</td>\n",
       "      <td>18.044444</td>\n",
       "    </tr>\n",
       "    <tr>\n",
       "      <th>3</th>\n",
       "      <td>ARI</td>\n",
       "      <td>2018</td>\n",
       "      <td>26.183673</td>\n",
       "      <td>14.142857</td>\n",
       "    </tr>\n",
       "    <tr>\n",
       "      <th>4</th>\n",
       "      <td>ARI</td>\n",
       "      <td>2019</td>\n",
       "      <td>31.533333</td>\n",
       "      <td>18.066667</td>\n",
       "    </tr>\n",
       "    <tr>\n",
       "      <th>...</th>\n",
       "      <td>...</td>\n",
       "      <td>...</td>\n",
       "      <td>...</td>\n",
       "      <td>...</td>\n",
       "    </tr>\n",
       "    <tr>\n",
       "      <th>145</th>\n",
       "      <td>WAS</td>\n",
       "      <td>2015</td>\n",
       "      <td>30.977273</td>\n",
       "      <td>15.977273</td>\n",
       "    </tr>\n",
       "    <tr>\n",
       "      <th>146</th>\n",
       "      <td>WAS</td>\n",
       "      <td>2016</td>\n",
       "      <td>32.627907</td>\n",
       "      <td>17.744186</td>\n",
       "    </tr>\n",
       "    <tr>\n",
       "      <th>147</th>\n",
       "      <td>WAS</td>\n",
       "      <td>2017</td>\n",
       "      <td>30.142857</td>\n",
       "      <td>16.714286</td>\n",
       "    </tr>\n",
       "    <tr>\n",
       "      <th>148</th>\n",
       "      <td>WAS</td>\n",
       "      <td>2018</td>\n",
       "      <td>26.452830</td>\n",
       "      <td>14.547170</td>\n",
       "    </tr>\n",
       "    <tr>\n",
       "      <th>149</th>\n",
       "      <td>WAS</td>\n",
       "      <td>2019</td>\n",
       "      <td>29.200000</td>\n",
       "      <td>17.460000</td>\n",
       "    </tr>\n",
       "  </tbody>\n",
       "</table>\n",
       "<p>150 rows × 4 columns</p>\n",
       "</div>"
      ],
      "text/plain": [
       "    teamID  yearID        Hit        Run\n",
       "0      ARI    2015  29.880000  14.400000\n",
       "1      ARI    2016  29.580000  15.040000\n",
       "2      ARI    2017  31.222222  18.044444\n",
       "3      ARI    2018  26.183673  14.142857\n",
       "4      ARI    2019  31.533333  18.066667\n",
       "..     ...     ...        ...        ...\n",
       "145    WAS    2015  30.977273  15.977273\n",
       "146    WAS    2016  32.627907  17.744186\n",
       "147    WAS    2017  30.142857  16.714286\n",
       "148    WAS    2018  26.452830  14.547170\n",
       "149    WAS    2019  29.200000  17.460000\n",
       "\n",
       "[150 rows x 4 columns]"
      ]
     },
     "execution_count": 17,
     "metadata": {},
     "output_type": "execute_result"
    }
   ],
   "source": [
    "d= Analysis.reset_index()\n",
    "d"
   ]
  },
  {
   "cell_type": "code",
   "execution_count": 18,
   "metadata": {},
   "outputs": [
    {
     "data": {
      "text/plain": [
       "array(['ATL', 'OAK', 'CHA', 'MIN', 'SEA', 'NYA', 'COL', 'CLE', 'SLN',\n",
       "       'CIN', 'SFN', 'ARI', 'TOR', 'TEX', 'DET', 'CHN', 'KCA', 'SDN',\n",
       "       'PHI', 'HOU', 'NYN', 'BAL', 'MIA', 'LAA', 'PIT', 'LAN', 'TBA',\n",
       "       'BOS', 'MIL', 'WAS'], dtype=object)"
      ]
     },
     "execution_count": 18,
     "metadata": {},
     "output_type": "execute_result"
    }
   ],
   "source": [
    "teamdata"
   ]
  },
  {
   "cell_type": "code",
   "execution_count": 19,
   "metadata": {},
   "outputs": [
    {
     "data": {
      "text/html": [
       "<div>\n",
       "<style scoped>\n",
       "    .dataframe tbody tr th:only-of-type {\n",
       "        vertical-align: middle;\n",
       "    }\n",
       "\n",
       "    .dataframe tbody tr th {\n",
       "        vertical-align: top;\n",
       "    }\n",
       "\n",
       "    .dataframe thead th {\n",
       "        text-align: right;\n",
       "    }\n",
       "</style>\n",
       "<table border=\"1\" class=\"dataframe\">\n",
       "  <thead>\n",
       "    <tr style=\"text-align: right;\">\n",
       "      <th></th>\n",
       "      <th>teamID</th>\n",
       "      <th>yearID</th>\n",
       "      <th>Hit</th>\n",
       "      <th>Run</th>\n",
       "    </tr>\n",
       "  </thead>\n",
       "  <tbody>\n",
       "    <tr>\n",
       "      <th>5</th>\n",
       "      <td>ATL</td>\n",
       "      <td>2015</td>\n",
       "      <td>22.683333</td>\n",
       "      <td>9.550000</td>\n",
       "    </tr>\n",
       "    <tr>\n",
       "      <th>6</th>\n",
       "      <td>ATL</td>\n",
       "      <td>2016</td>\n",
       "      <td>23.400000</td>\n",
       "      <td>10.816667</td>\n",
       "    </tr>\n",
       "    <tr>\n",
       "      <th>7</th>\n",
       "      <td>ATL</td>\n",
       "      <td>2017</td>\n",
       "      <td>29.938776</td>\n",
       "      <td>14.938776</td>\n",
       "    </tr>\n",
       "    <tr>\n",
       "      <th>8</th>\n",
       "      <td>ATL</td>\n",
       "      <td>2018</td>\n",
       "      <td>24.288136</td>\n",
       "      <td>12.864407</td>\n",
       "    </tr>\n",
       "    <tr>\n",
       "      <th>9</th>\n",
       "      <td>ATL</td>\n",
       "      <td>2019</td>\n",
       "      <td>28.640000</td>\n",
       "      <td>17.100000</td>\n",
       "    </tr>\n",
       "  </tbody>\n",
       "</table>\n",
       "</div>"
      ],
      "text/plain": [
       "  teamID  yearID        Hit        Run\n",
       "5    ATL    2015  22.683333   9.550000\n",
       "6    ATL    2016  23.400000  10.816667\n",
       "7    ATL    2017  29.938776  14.938776\n",
       "8    ATL    2018  24.288136  12.864407\n",
       "9    ATL    2019  28.640000  17.100000"
      ]
     },
     "execution_count": 19,
     "metadata": {},
     "output_type": "execute_result"
    }
   ],
   "source": [
    "#pulling data for ATL team\n",
    "name= d.loc[d['teamID']=='ATL']\n",
    "name"
   ]
  },
  {
   "cell_type": "code",
   "execution_count": 20,
   "metadata": {},
   "outputs": [
    {
     "name": "stdout",
     "output_type": "stream",
     "text": [
      "y = 1.71x + -3445.65\n"
     ]
    },
    {
     "data": {
      "image/png": "[encoded data removed]",
      "text/plain": [
       "<Figure size 432x288 with 1 Axes>"
      ]
     },
     "metadata": {
      "needs_background": "light"
     },
     "output_type": "display_data"
    }
   ],
   "source": [
    "#graph to get trendline\n",
    "correlation = st.pearsonr(name['yearID'],name[\"Run\"])\n",
    "(slope, intercept, rvalue, pvalue, stderr) = st.linregress(name['yearID'],name[\"Run\"])\n",
    "regress_values = name['yearID'] * slope + intercept\n",
    "ATL_line_eq = \"y = \" + str(round(slope,2)) + \"x + \" + str(round(intercept,2))\n",
    "\n",
    "plt.scatter(name['yearID'],name[\"Run\"])\n",
    "plt.xlabel(\"yearID\")\n",
    "plt.ylabel(\"Average Run Score\")\n",
    "\n",
    "plt.plot(name['yearID'],regress_values,\"r-\")\n",
    "print(ATL_line_eq)\n",
    "plt.show()\n",
    "\n",
    "\n",
    "slopes=[]\n",
    "\n",
    "slopes.append(slope)"
   ]
  },
  {
   "cell_type": "code",
   "execution_count": 21,
   "metadata": {},
   "outputs": [
    {
     "name": "stdout",
     "output_type": "stream",
     "text": [
      "y = 0.96x + -1930.66\n"
     ]
    },
    {
     "data": {
      "image/png": "[encoded data removed]",
      "text/plain": [
       "<Figure size 432x288 with 1 Axes>"
      ]
     },
     "metadata": {
      "needs_background": "light"
     },
     "output_type": "display_data"
    }
   ],
   "source": [
    "OAK= d.loc[d['teamID']=='OAK']\n",
    "correlation = st.pearsonr(OAK['yearID'],OAK[\"Run\"])\n",
    "(slope, intercept, rvalue, pvalue, stderr) = st.linregress(OAK['yearID'],OAK[\"Run\"])\n",
    "regress_values = OAK['yearID'] * slope + intercept\n",
    "OAK_line_eq = \"y = \" + str(round(slope,2)) + \"x + \" + str(round(intercept,2))\n",
    "\n",
    "plt.scatter(OAK['yearID'],OAK[\"Run\"])\n",
    "plt.xlabel(\"yearID\")\n",
    "plt.ylabel(\"Average Run Score\")\n",
    "\n",
    "plt.plot(OAK['yearID'],regress_values,\"r-\")\n",
    "print(OAK_line_eq)\n",
    "plt.show()\n",
    "\n",
    "\n",
    "slopes.append(slope)"
   ]
  },
  {
   "cell_type": "code",
   "execution_count": 22,
   "metadata": {},
   "outputs": [
    {
     "name": "stdout",
     "output_type": "stream",
     "text": [
      "y = -0.18x + 383.24\n"
     ]
    },
    {
     "data": {
      "image/png": "[encoded data removed]",
      "text/plain": [
       "<Figure size 432x288 with 1 Axes>"
      ]
     },
     "metadata": {
      "needs_background": "light"
     },
     "output_type": "display_data"
    }
   ],
   "source": [
    "#Pulling Data for SEA team\n",
    "CHA= d.loc[d['teamID']=='CHA']\n",
    "\n",
    "#graph\n",
    "correlation = st.pearsonr(CHA['yearID'],CHA[\"Run\"])\n",
    "(slope, intercept, rvalue, pvalue, stderr) = st.linregress(CHA['yearID'],CHA[\"Run\"])\n",
    "regress_values = CHA['yearID'] * slope + intercept\n",
    "CHA_line_eq = \"y = \" + str(round(slope,2)) + \"x + \" + str(round(intercept,2))\n",
    "\n",
    "plt.scatter(CHA['yearID'],CHA[\"Run\"])\n",
    "plt.xlabel(\"yearID\")\n",
    "plt.ylabel(\"Average Run Score\")\n",
    "plt.plot(CHA['yearID'],regress_values,\"r-\")\n",
    "print(CHA_line_eq)\n",
    "plt.show()\n",
    "\n",
    "\n",
    "slopes.append(slope)"
   ]
  },
  {
   "cell_type": "code",
   "execution_count": 23,
   "metadata": {},
   "outputs": [
    {
     "name": "stdout",
     "output_type": "stream",
     "text": [
      "y = 0.49x + -963.64\n"
     ]
    },
    {
     "data": {
      "image/png": "[encoded data removed]",
      "text/plain": [
       "<Figure size 432x288 with 1 Axes>"
      ]
     },
     "metadata": {
      "needs_background": "light"
     },
     "output_type": "display_data"
    }
   ],
   "source": [
    "#Pulling Data for SEA team\n",
    "MIN= d.loc[d['teamID']=='MIN']\n",
    "\n",
    "#graph\n",
    "correlation = st.pearsonr(MIN['yearID'],MIN[\"Run\"])\n",
    "(slope, intercept, rvalue, pvalue, stderr) = st.linregress(MIN['yearID'],MIN[\"Run\"])\n",
    "regress_values = MIN['yearID'] * slope + intercept\n",
    "MIN_line_eq = \"y = \" + str(round(slope,2)) + \"x + \" + str(round(intercept,2))\n",
    "\n",
    "plt.scatter(MIN['yearID'],MIN[\"Run\"])\n",
    "plt.xlabel(\"yearID\")\n",
    "plt.ylabel(\"Average Run Score\")\n",
    "plt.plot(MIN['yearID'],regress_values,\"r-\")\n",
    "print(MIN_line_eq)\n",
    "plt.show()\n",
    "\n",
    "slopes.append(slope)"
   ]
  },
  {
   "cell_type": "code",
   "execution_count": 24,
   "metadata": {},
   "outputs": [
    {
     "name": "stdout",
     "output_type": "stream",
     "text": [
      "y = -0.45x + 929.88\n"
     ]
    },
    {
     "data": {
      "image/png": "[encoded data removed]",
      "text/plain": [
       "<Figure size 432x288 with 1 Axes>"
      ]
     },
     "metadata": {
      "needs_background": "light"
     },
     "output_type": "display_data"
    }
   ],
   "source": [
    "#Pulling Data for SEA team\n",
    "SEA= d.loc[d['teamID']=='SEA']\n",
    "\n",
    "#graph\n",
    "correlation = st.pearsonr(SEA['yearID'],SEA[\"Run\"])\n",
    "(slope, intercept, rvalue, pvalue, stderr) = st.linregress(SEA['yearID'],SEA[\"Run\"])\n",
    "regress_values = SEA['yearID'] * slope + intercept\n",
    "SEA_line_eq = \"y = \" + str(round(slope,2)) + \"x + \" + str(round(intercept,2))\n",
    "\n",
    "plt.scatter(SEA['yearID'],SEA[\"Run\"])\n",
    "plt.xlabel(\"yearID\")\n",
    "plt.ylabel(\"Average Run Score\")\n",
    "# print(f\"The r-value is: {rvalue}\")\n",
    "#plt.annotate(line_eq,(1),fontsize=5,color=\"red\")\n",
    "plt.plot(SEA['yearID'],regress_values,\"r-\")\n",
    "print(SEA_line_eq)\n",
    "plt.show()\n",
    "\n",
    "\n",
    "slopes.append(slope)"
   ]
  },
  {
   "cell_type": "code",
   "execution_count": 25,
   "metadata": {},
   "outputs": [
    {
     "name": "stdout",
     "output_type": "stream",
     "text": [
      "y = 1.18x + -2370.56\n"
     ]
    },
    {
     "data": {
      "image/png": "[encoded data removed]",
      "text/plain": [
       "<Figure size 432x288 with 1 Axes>"
      ]
     },
     "metadata": {
      "needs_background": "light"
     },
     "output_type": "display_data"
    }
   ],
   "source": [
    "NYA= d.loc[d['teamID']=='NYA']\n",
    "correlation = st.pearsonr(NYA['yearID'],NYA[\"Run\"])\n",
    "(slope, intercept, rvalue, pvalue, stderr) = st.linregress(NYA['yearID'],NYA[\"Run\"])\n",
    "regress_values = NYA['yearID'] * slope + intercept\n",
    "NYA_line_eq = \"y = \" + str(round(slope,2)) + \"x + \" + str(round(intercept,2))\n",
    "\n",
    "plt.scatter(NYA['yearID'],NYA[\"Run\"])\n",
    "plt.xlabel(\"yearID\")\n",
    "plt.ylabel(\"Average Run Score\")\n",
    "\n",
    "plt.plot(NYA['yearID'],regress_values,\"r-\")\n",
    "print(NYA_line_eq)\n",
    "plt.show()\n",
    "\n",
    "slopes.append(slope)"
   ]
  },
  {
   "cell_type": "code",
   "execution_count": 26,
   "metadata": {},
   "outputs": [
    {
     "name": "stdout",
     "output_type": "stream",
     "text": [
      "y = 0.55x + -1100.52\n"
     ]
    },
    {
     "data": {
      "image/png": "[encoded data removed]",
      "text/plain": [
       "<Figure size 432x288 with 1 Axes>"
      ]
     },
     "metadata": {
      "needs_background": "light"
     },
     "output_type": "display_data"
    }
   ],
   "source": [
    "COL= d.loc[d['teamID']=='COL']\n",
    "correlation = st.pearsonr(COL['yearID'],COL[\"Run\"])\n",
    "(slope, intercept, rvalue, pvalue, stderr) = st.linregress(COL['yearID'],COL[\"Run\"])\n",
    "regress_values = COL['yearID'] * slope + intercept\n",
    "COL_line_eq = \"y = \" + str(round(slope,2)) + \"x + \" + str(round(intercept,2))\n",
    "\n",
    "plt.scatter(COL['yearID'],COL[\"Run\"])\n",
    "plt.xlabel(\"yearID\")\n",
    "plt.ylabel(\"Average Run Score\")\n",
    "\n",
    "plt.plot(COL['yearID'],regress_values,\"r-\")\n",
    "print(COL_line_eq)\n",
    "plt.show()\n",
    "\n",
    "slopes.append(slope)"
   ]
  },
  {
   "cell_type": "code",
   "execution_count": 27,
   "metadata": {},
   "outputs": [
    {
     "name": "stdout",
     "output_type": "stream",
     "text": [
      "y = 0.2x + -389.76\n"
     ]
    },
    {
     "data": {
      "image/png": "[encoded data removed]",
      "text/plain": [
       "<Figure size 432x288 with 1 Axes>"
      ]
     },
     "metadata": {
      "needs_background": "light"
     },
     "output_type": "display_data"
    }
   ],
   "source": [
    "CLE= d.loc[d['teamID']=='CLE']\n",
    "correlation = st.pearsonr(CLE['yearID'],CLE[\"Run\"])\n",
    "(slope, intercept, rvalue, pvalue, stderr) = st.linregress(CLE['yearID'],CLE[\"Run\"])\n",
    "regress_values = CLE['yearID'] * slope + intercept\n",
    "CLE_line_eq = \"y = \" + str(round(slope,2)) + \"x + \" + str(round(intercept,2))\n",
    "\n",
    "plt.scatter(CLE['yearID'],CLE[\"Run\"])\n",
    "plt.xlabel(\"yearID\")\n",
    "plt.ylabel(\"Average Run Score\")\n",
    "\n",
    "plt.plot(CLE['yearID'],regress_values,\"r-\")\n",
    "print(CLE_line_eq)\n",
    "plt.show()\n",
    "\n",
    "\n",
    "slopes.append(slope)"
   ]
  },
  {
   "cell_type": "code",
   "execution_count": 28,
   "metadata": {},
   "outputs": [
    {
     "name": "stdout",
     "output_type": "stream",
     "text": [
      "y = 0.39x + -769.03\n"
     ]
    },
    {
     "data": {
      "image/png": "[encoded data removed]",
      "text/plain": [
       "<Figure size 432x288 with 1 Axes>"
      ]
     },
     "metadata": {
      "needs_background": "light"
     },
     "output_type": "display_data"
    }
   ],
   "source": [
    "SLN= d.loc[d['teamID']=='SLN']\n",
    "correlation = st.pearsonr(SLN['yearID'],SLN[\"Run\"])\n",
    "(slope, intercept, rvalue, pvalue, stderr) = st.linregress(SLN['yearID'],SLN[\"Run\"])\n",
    "regress_values = SLN['yearID'] * slope + intercept\n",
    "SLN_line_eq = \"y = \" + str(round(slope,2)) + \"x + \" + str(round(intercept,2))\n",
    "\n",
    "plt.scatter(SLN['yearID'],SLN[\"Run\"])\n",
    "plt.xlabel(\"yearID\")\n",
    "plt.ylabel(\"Average Run Score\")\n",
    "\n",
    "plt.plot(SLN['yearID'],regress_values,\"r-\")\n",
    "print(SLN_line_eq)\n",
    "plt.show()\n",
    "\n",
    "\n",
    "slopes.append(slope)"
   ]
  },
  {
   "cell_type": "code",
   "execution_count": 29,
   "metadata": {},
   "outputs": [
    {
     "name": "stdout",
     "output_type": "stream",
     "text": [
      "y = 0.36x + -710.51\n"
     ]
    },
    {
     "data": {
      "image/png": "[encoded data removed]",
      "text/plain": [
       "<Figure size 432x288 with 1 Axes>"
      ]
     },
     "metadata": {
      "needs_background": "light"
     },
     "output_type": "display_data"
    }
   ],
   "source": [
    "CIN= d.loc[d['teamID']=='CIN']\n",
    "correlation = st.pearsonr(CIN['yearID'],CIN[\"Run\"])\n",
    "(slope, intercept, rvalue, pvalue, stderr) = st.linregress(CIN['yearID'],CIN[\"Run\"])\n",
    "regress_values = CIN['yearID'] * slope + intercept\n",
    "CIN_line_eq = \"y = \" + str(round(slope,2)) + \"x + \" + str(round(intercept,2))\n",
    "\n",
    "plt.scatter(CIN['yearID'],CIN[\"Run\"])\n",
    "plt.xlabel(\"yearID\")\n",
    "plt.ylabel(\"Average Run Score\")\n",
    "\n",
    "plt.plot(CIN['yearID'],regress_values,\"r-\")\n",
    "print(CIN_line_eq)\n",
    "plt.show()\n",
    "\n",
    "\n",
    "slopes.append(slope)"
   ]
  },
  {
   "cell_type": "code",
   "execution_count": 30,
   "metadata": {},
   "outputs": [
    {
     "name": "stdout",
     "output_type": "stream",
     "text": [
      "y = -1.11x + 2260.03\n"
     ]
    },
    {
     "data": {
      "image/png": "[encoded data removed]",
      "text/plain": [
       "<Figure size 432x288 with 1 Axes>"
      ]
     },
     "metadata": {
      "needs_background": "light"
     },
     "output_type": "display_data"
    }
   ],
   "source": [
    "SFN= d.loc[d['teamID']=='SFN']\n",
    "correlation = st.pearsonr(SFN['yearID'],SFN[\"Run\"])\n",
    "(slope, intercept, rvalue, pvalue, stderr) = st.linregress(SFN['yearID'],SFN[\"Run\"])\n",
    "regress_values = SFN['yearID'] * slope + intercept\n",
    "SFN_line_eq = \"y = \" + str(round(slope,2)) + \"x + \" + str(round(intercept,2))\n",
    "\n",
    "plt.scatter(SFN['yearID'],SFN[\"Run\"])\n",
    "plt.xlabel(\"yearID\")\n",
    "plt.ylabel(\"Average Run Score\")\n",
    "\n",
    "plt.plot(SFN['yearID'],regress_values,\"r-\")\n",
    "print(SFN_line_eq)\n",
    "plt.show()\n",
    "\n",
    "\n",
    "slopes.append(slope)"
   ]
  },
  {
   "cell_type": "code",
   "execution_count": 31,
   "metadata": {},
   "outputs": [
    {
     "name": "stdout",
     "output_type": "stream",
     "text": [
      "y = 0.64x + -1282.24\n"
     ]
    },
    {
     "data": {
      "image/png": "[encoded data removed]",
      "text/plain": [
       "<Figure size 432x288 with 1 Axes>"
      ]
     },
     "metadata": {
      "needs_background": "light"
     },
     "output_type": "display_data"
    }
   ],
   "source": [
    "#Pulling Data for ARI team\n",
    "ARI= d.loc[d['teamID']=='ARI']\n",
    "#graph\n",
    "correlation = st.pearsonr(ARI['yearID'],ARI[\"Run\"])\n",
    "(slope, intercept, rvalue, pvalue, stderr) = st.linregress(ARI['yearID'],ARI[\"Run\"])\n",
    "regress_values = ARI['yearID'] * slope + intercept\n",
    "ARI_line_eq = \"y = \" + str(round(slope,2)) + \"x + \" + str(round(intercept,2))\n",
    "\n",
    "plt.scatter(ARI['yearID'],ARI[\"Run\"])\n",
    "plt.xlabel(\"yearID\")\n",
    "plt.ylabel(\"Average Run Score\")\n",
    "plt.plot(ARI['yearID'],regress_values,\"r-\")\n",
    "print(ARI_line_eq)\n",
    "plt.show()\n",
    "\n",
    "\n",
    "slopes.append(slope)"
   ]
  },
  {
   "cell_type": "code",
   "execution_count": 32,
   "metadata": {},
   "outputs": [
    {
     "name": "stdout",
     "output_type": "stream",
     "text": [
      "y = -1.47x + 2978.81\n"
     ]
    },
    {
     "data": {
      "image/png": "[encoded data removed]",
      "text/plain": [
       "<Figure size 432x288 with 1 Axes>"
      ]
     },
     "metadata": {
      "needs_background": "light"
     },
     "output_type": "display_data"
    }
   ],
   "source": [
    "TOR= d.loc[d['teamID']=='TOR']\n",
    "correlation = st.pearsonr(TOR['yearID'],TOR[\"Run\"])\n",
    "(slope, intercept, rvalue, pvalue, stderr) = st.linregress(TOR['yearID'],TOR[\"Run\"])\n",
    "regress_values = TOR['yearID'] * slope + intercept\n",
    "TOR_line_eq = \"y = \" + str(round(slope,2)) + \"x + \" + str(round(intercept,2))\n",
    "\n",
    "plt.scatter(TOR['yearID'],TOR[\"Run\"])\n",
    "plt.xlabel(\"yearID\")\n",
    "plt.ylabel(\"Average Run Score\")\n",
    "\n",
    "plt.plot(TOR['yearID'],regress_values,\"r-\")\n",
    "print(TOR_line_eq)\n",
    "plt.show()\n",
    "\n",
    "\n",
    "slopes.append(slope)"
   ]
  },
  {
   "cell_type": "code",
   "execution_count": 33,
   "metadata": {},
   "outputs": [
    {
     "name": "stdout",
     "output_type": "stream",
     "text": [
      "y = 0.42x + -841.22\n"
     ]
    },
    {
     "data": {
      "image/png": "[encoded data removed]",
      "text/plain": [
       "<Figure size 432x288 with 1 Axes>"
      ]
     },
     "metadata": {
      "needs_background": "light"
     },
     "output_type": "display_data"
    }
   ],
   "source": [
    "TEX= d.loc[d['teamID']=='TEX']\n",
    "correlation = st.pearsonr(TEX['yearID'],TEX[\"Run\"])\n",
    "(slope, intercept, rvalue, pvalue, stderr) = st.linregress(TEX['yearID'],TEX[\"Run\"])\n",
    "regress_values = TEX['yearID'] * slope + intercept\n",
    "TEX_line_eq = \"y = \" + str(round(slope,2)) + \"x + \" + str(round(intercept,2))\n",
    "\n",
    "plt.scatter(TEX['yearID'],TEX[\"Run\"])\n",
    "plt.xlabel(\"yearID\")\n",
    "plt.ylabel(\"Average Run Score\")\n",
    "\n",
    "plt.plot(TEX['yearID'],regress_values,\"r-\")\n",
    "print(TEX_line_eq)\n",
    "plt.show()\n",
    "\n",
    "\n",
    "slopes.append(slope)"
   ]
  },
  {
   "cell_type": "code",
   "execution_count": 34,
   "metadata": {},
   "outputs": [
    {
     "name": "stdout",
     "output_type": "stream",
     "text": [
      "y = -1.15x + 2342.77\n"
     ]
    },
    {
     "data": {
      "image/png": "[encoded data removed]",
      "text/plain": [
       "<Figure size 432x288 with 1 Axes>"
      ]
     },
     "metadata": {
      "needs_background": "light"
     },
     "output_type": "display_data"
    }
   ],
   "source": [
    "DET= d.loc[d['teamID']=='DET']\n",
    "correlation = st.pearsonr(DET['yearID'],DET[\"Run\"])\n",
    "(slope, intercept, rvalue, pvalue, stderr) = st.linregress(DET['yearID'],DET[\"Run\"])\n",
    "regress_values = DET['yearID'] * slope + intercept\n",
    "DET_line_eq = \"y = \" + str(round(slope,2)) + \"x + \" + str(round(intercept,2))\n",
    "\n",
    "plt.scatter(DET['yearID'],DET[\"Run\"])\n",
    "plt.xlabel(\"yearID\")\n",
    "plt.ylabel(\"Average Run Score\")\n",
    "plt.plot(DET['yearID'],regress_values,\"r-\")\n",
    "print(DET_line_eq)\n",
    "plt.show()\n",
    "\n",
    "\n",
    "\n",
    "slopes.append(slope)"
   ]
  },
  {
   "cell_type": "code",
   "execution_count": 35,
   "metadata": {},
   "outputs": [
    {
     "name": "stdout",
     "output_type": "stream",
     "text": [
      "y = 0.1x + -188.13\n"
     ]
    },
    {
     "data": {
      "image/png": "[encoded data removed]",
      "text/plain": [
       "<Figure size 432x288 with 1 Axes>"
      ]
     },
     "metadata": {
      "needs_background": "light"
     },
     "output_type": "display_data"
    }
   ],
   "source": [
    "CHN= d.loc[d['teamID']=='CHN']\n",
    "correlation = st.pearsonr(CHN['yearID'],CHN[\"Run\"])\n",
    "(slope, intercept, rvalue, pvalue, stderr) = st.linregress(CHN['yearID'],CHN[\"Run\"])\n",
    "regress_values = CHN['yearID'] * slope + intercept\n",
    "CHN_line_eq = \"y = \" + str(round(slope,2)) + \"x + \" + str(round(intercept,2))\n",
    "\n",
    "plt.scatter(CHN['yearID'],CHN[\"Run\"])\n",
    "plt.xlabel(\"yearID\")\n",
    "plt.ylabel(\"Average Run Score\")\n",
    "\n",
    "plt.plot(CHN['yearID'],regress_values,\"r-\")\n",
    "print(CHN_line_eq)\n",
    "plt.show()\n",
    "\n",
    "\n",
    "slopes.append(slope)"
   ]
  },
  {
   "cell_type": "code",
   "execution_count": 36,
   "metadata": {},
   "outputs": [
    {
     "name": "stdout",
     "output_type": "stream",
     "text": [
      "y = -0.81x + 1654.59\n"
     ]
    },
    {
     "data": {
      "image/png": "[encoded data removed]",
      "text/plain": [
       "<Figure size 432x288 with 1 Axes>"
      ]
     },
     "metadata": {
      "needs_background": "light"
     },
     "output_type": "display_data"
    }
   ],
   "source": [
    "KCA= d.loc[d['teamID']=='KCA']\n",
    "correlation = st.pearsonr(KCA['yearID'],KCA[\"Run\"])\n",
    "(slope, intercept, rvalue, pvalue, stderr) = st.linregress(KCA['yearID'],KCA[\"Run\"])\n",
    "regress_values = KCA['yearID'] * slope + intercept\n",
    "KCA_line_eq = \"y = \" + str(round(slope,2)) + \"x + \" + str(round(intercept,2))\n",
    "\n",
    "plt.scatter(KCA['yearID'],KCA[\"Run\"])\n",
    "plt.xlabel(\"yearID\")\n",
    "plt.ylabel(\"Average Run Score\")\n",
    "\n",
    "plt.plot(KCA['yearID'],regress_values,\"r-\")\n",
    "print(KCA_line_eq)\n",
    "plt.show()\n",
    "\n",
    "\n",
    "slopes.append(slope)"
   ]
  },
  {
   "cell_type": "code",
   "execution_count": 37,
   "metadata": {},
   "outputs": [
    {
     "name": "stdout",
     "output_type": "stream",
     "text": [
      "y = -0.22x + 463.83\n"
     ]
    },
    {
     "data": {
      "image/png": "[encoded data removed]",
      "text/plain": [
       "<Figure size 432x288 with 1 Axes>"
      ]
     },
     "metadata": {
      "needs_background": "light"
     },
     "output_type": "display_data"
    }
   ],
   "source": [
    "SDN= d.loc[d['teamID']=='SDN']\n",
    "correlation = st.pearsonr(SDN['yearID'],SDN[\"Run\"])\n",
    "(slope, intercept, rvalue, pvalue, stderr) = st.linregress(SDN['yearID'],SDN[\"Run\"])\n",
    "regress_values = SDN['yearID'] * slope + intercept\n",
    "SDN_line_eq = \"y = \" + str(round(slope,2)) + \"x + \" + str(round(intercept,2))\n",
    "\n",
    "plt.scatter(SDN['yearID'],SDN[\"Run\"])\n",
    "plt.xlabel(\"yearID\")\n",
    "plt.ylabel(\"Average Run Score\")\n",
    "\n",
    "plt.plot(SDN['yearID'],regress_values,\"r-\")\n",
    "print(SDN_line_eq)\n",
    "plt.show()\n",
    "\n",
    "slopes.append(slope)"
   ]
  },
  {
   "cell_type": "code",
   "execution_count": 38,
   "metadata": {},
   "outputs": [
    {
     "name": "stdout",
     "output_type": "stream",
     "text": [
      "y = 0.43x + -845.56\n"
     ]
    },
    {
     "data": {
      "image/png": "[encoded data removed]",
      "text/plain": [
       "<Figure size 432x288 with 1 Axes>"
      ]
     },
     "metadata": {
      "needs_background": "light"
     },
     "output_type": "display_data"
    }
   ],
   "source": [
    "PHI= d.loc[d['teamID']=='PHI']\n",
    "correlation = st.pearsonr(PHI['yearID'],PHI[\"Run\"])\n",
    "(slope, intercept, rvalue, pvalue, stderr) = st.linregress(PHI['yearID'],PHI[\"Run\"])\n",
    "regress_values = PHI['yearID'] * slope + intercept\n",
    "PHI_line_eq = \"y = \" + str(round(slope,2)) + \"x + \" + str(round(intercept,2))\n",
    "\n",
    "plt.scatter(PHI['yearID'],PHI[\"Run\"])\n",
    "plt.xlabel(\"yearID\")\n",
    "plt.ylabel(\"Average Run Score\")\n",
    "\n",
    "plt.plot(PHI['yearID'],regress_values,\"r-\")\n",
    "print(PHI_line_eq)\n",
    "plt.show()\n",
    "\n",
    "\n",
    "slopes.append(slope)"
   ]
  },
  {
   "cell_type": "code",
   "execution_count": 39,
   "metadata": {},
   "outputs": [
    {
     "name": "stdout",
     "output_type": "stream",
     "text": [
      "y = 1.18x + -2360.65\n"
     ]
    },
    {
     "data": {
      "image/png": "[encoded data removed]",
      "text/plain": [
       "<Figure size 432x288 with 1 Axes>"
      ]
     },
     "metadata": {
      "needs_background": "light"
     },
     "output_type": "display_data"
    }
   ],
   "source": [
    "HOU= d.loc[d['teamID']=='HOU']\n",
    "correlation = st.pearsonr(HOU['yearID'],HOU[\"Run\"])\n",
    "(slope, intercept, rvalue, pvalue, stderr) = st.linregress(HOU['yearID'],HOU[\"Run\"])\n",
    "regress_values = HOU['yearID'] * slope + intercept\n",
    "HOU_line_eq = \"y = \" + str(round(slope,2)) + \"x + \" + str(round(intercept,2))\n",
    "\n",
    "plt.scatter(HOU['yearID'],HOU[\"Run\"])\n",
    "plt.xlabel(\"yearID\")\n",
    "plt.ylabel(\"Average Run Score\")\n",
    "\n",
    "plt.plot(HOU['yearID'],regress_values,\"r-\")\n",
    "print(HOU_line_eq)\n",
    "plt.show()\n",
    "\n",
    "\n",
    "slopes.append(slope)"
   ]
  },
  {
   "cell_type": "code",
   "execution_count": 40,
   "metadata": {},
   "outputs": [
    {
     "name": "stdout",
     "output_type": "stream",
     "text": [
      "y = 0.0x + 11.15\n"
     ]
    },
    {
     "data": {
      "image/png": "[encoded data removed]",
      "text/plain": [
       "<Figure size 432x288 with 1 Axes>"
      ]
     },
     "metadata": {
      "needs_background": "light"
     },
     "output_type": "display_data"
    }
   ],
   "source": [
    "NYN= d.loc[d['teamID']=='NYN']\n",
    "correlation = st.pearsonr(NYN['yearID'],NYN[\"Run\"])\n",
    "(slope, intercept, rvalue, pvalue, stderr) = st.linregress(NYN['yearID'],NYN[\"Run\"])\n",
    "regress_values = NYN['yearID'] * slope + intercept\n",
    "NYN_line_eq = \"y = \" + str(round(slope,2)) + \"x + \" + str(round(intercept,2))\n",
    "\n",
    "plt.scatter(NYN['yearID'],NYN[\"Run\"])\n",
    "plt.xlabel(\"yearID\")\n",
    "plt.ylabel(\"Average Run Score\")\n",
    "\n",
    "plt.plot(NYN['yearID'],regress_values,\"r-\")\n",
    "print(NYN_line_eq)\n",
    "plt.show()\n",
    "\n",
    "\n",
    "slopes.append(slope)"
   ]
  },
  {
   "cell_type": "code",
   "execution_count": 41,
   "metadata": {},
   "outputs": [
    {
     "name": "stdout",
     "output_type": "stream",
     "text": [
      "y = -0.93x + 1888.25\n"
     ]
    },
    {
     "data": {
      "image/png": "[encoded data removed]",
      "text/plain": [
       "<Figure size 432x288 with 1 Axes>"
      ]
     },
     "metadata": {
      "needs_background": "light"
     },
     "output_type": "display_data"
    }
   ],
   "source": [
    "BAL= d.loc[d['teamID']=='BAL']\n",
    "correlation = st.pearsonr(BAL['yearID'],BAL[\"Run\"])\n",
    "(slope, intercept, rvalue, pvalue, stderr) = st.linregress(BAL['yearID'],BAL[\"Run\"])\n",
    "regress_values = BAL['yearID'] * slope + intercept\n",
    "BAL_line_eq = \"y = \" + str(round(slope,2)) + \"x + \" + str(round(intercept,2))\n",
    "\n",
    "plt.scatter(BAL['yearID'],BAL[\"Run\"])\n",
    "plt.xlabel(\"yearID\")\n",
    "plt.ylabel(\"Average Run Score\")\n",
    "\n",
    "plt.plot(BAL['yearID'],regress_values,\"r-\")\n",
    "print(BAL_line_eq)\n",
    "plt.show()\n",
    "\n",
    "\n",
    "slopes.append(slope)"
   ]
  },
  {
   "cell_type": "code",
   "execution_count": 42,
   "metadata": {},
   "outputs": [
    {
     "name": "stdout",
     "output_type": "stream",
     "text": [
      "y = -0.02x + 63.42\n"
     ]
    },
    {
     "data": {
      "image/png": "[encoded data removed]",
      "text/plain": [
       "<Figure size 432x288 with 1 Axes>"
      ]
     },
     "metadata": {
      "needs_background": "light"
     },
     "output_type": "display_data"
    }
   ],
   "source": [
    "MIA= d.loc[d['teamID']=='MIA']\n",
    "correlation = st.pearsonr(MIA['yearID'],MIA[\"Run\"])\n",
    "(slope, intercept, rvalue, pvalue, stderr) = st.linregress(MIA['yearID'],MIA[\"Run\"])\n",
    "regress_values = MIA['yearID'] * slope + intercept\n",
    "MIA_line_eq = \"y = \" + str(round(slope,2)) + \"x + \" + str(round(intercept,2))\n",
    "\n",
    "plt.scatter(MIA['yearID'],MIA[\"Run\"])\n",
    "plt.xlabel(\"yearID\")\n",
    "plt.ylabel(\"Average Run Score\")\n",
    "\n",
    "plt.plot(MIA['yearID'],regress_values,\"r-\")\n",
    "print(MIA_line_eq)\n",
    "plt.show()\n",
    "\n",
    "\n",
    "slopes.append(slope)"
   ]
  },
  {
   "cell_type": "code",
   "execution_count": 43,
   "metadata": {},
   "outputs": [
    {
     "name": "stdout",
     "output_type": "stream",
     "text": [
      "y = -0.05x + 103.9\n"
     ]
    },
    {
     "data": {
      "image/png": "[encoded data removed]",
      "text/plain": [
       "<Figure size 432x288 with 1 Axes>"
      ]
     },
     "metadata": {
      "needs_background": "light"
     },
     "output_type": "display_data"
    }
   ],
   "source": [
    "LAA= d.loc[d['teamID']=='LAA']\n",
    "correlation = st.pearsonr(LAA['yearID'],LAA[\"Run\"])\n",
    "(slope, intercept, rvalue, pvalue, stderr) = st.linregress(LAA['yearID'],LAA[\"Run\"])\n",
    "regress_values = LAA['yearID'] * slope + intercept\n",
    "LAA_line_eq = \"y = \" + str(round(slope,2)) + \"x + \" + str(round(intercept,2))\n",
    "\n",
    "plt.scatter(LAA['yearID'],LAA[\"Run\"])\n",
    "plt.xlabel(\"yearID\")\n",
    "plt.ylabel(\"Average Run Score\")\n",
    "\n",
    "plt.plot(LAA['yearID'],regress_values,\"r-\")\n",
    "print(LAA_line_eq)\n",
    "plt.show()\n",
    "\n",
    "\n",
    "\n",
    "slopes.append(slope)"
   ]
  },
  {
   "cell_type": "code",
   "execution_count": 44,
   "metadata": {},
   "outputs": [
    {
     "name": "stdout",
     "output_type": "stream",
     "text": [
      "y = -0.11x + 229.66\n"
     ]
    },
    {
     "data": {
      "image/png": "[encoded data removed]",
      "text/plain": [
       "<Figure size 432x288 with 1 Axes>"
      ]
     },
     "metadata": {
      "needs_background": "light"
     },
     "output_type": "display_data"
    }
   ],
   "source": [
    "PIT= d.loc[d['teamID']=='PIT']\n",
    "correlation = st.pearsonr(PIT['yearID'],PIT[\"Run\"])\n",
    "(slope, intercept, rvalue, pvalue, stderr) = st.linregress(PIT['yearID'],PIT[\"Run\"])\n",
    "regress_values = PIT['yearID'] * slope + intercept\n",
    "PIT_line_eq = \"y = \" + str(round(slope,2)) + \"x + \" + str(round(intercept,2))\n",
    "\n",
    "plt.scatter(PIT['yearID'],PIT[\"Run\"])\n",
    "plt.xlabel(\"yearID\")\n",
    "plt.ylabel(\"Average Run Score\")\n",
    "\n",
    "plt.plot(PIT['yearID'],regress_values,\"r-\")\n",
    "print(PIT_line_eq)\n",
    "plt.show()\n",
    "\n",
    "\n",
    "slopes.append(slope)"
   ]
  },
  {
   "cell_type": "code",
   "execution_count": 45,
   "metadata": {},
   "outputs": [
    {
     "name": "stdout",
     "output_type": "stream",
     "text": [
      "y = 1.65x + -3322.54\n"
     ]
    },
    {
     "data": {
      "image/png": "[encoded data removed]",
      "text/plain": [
       "<Figure size 432x288 with 1 Axes>"
      ]
     },
     "metadata": {
      "needs_background": "light"
     },
     "output_type": "display_data"
    }
   ],
   "source": [
    "LAN= d.loc[d['teamID']=='LAN']\n",
    "correlation = st.pearsonr(LAN['yearID'],LAN[\"Run\"])\n",
    "(slope, intercept, rvalue, pvalue, stderr) = st.linregress(LAN['yearID'],LAN[\"Run\"])\n",
    "regress_values = LAN['yearID'] * slope + intercept\n",
    "LAN_line_eq = \"y = \" + str(round(slope,2)) + \"x + \" + str(round(intercept,2))\n",
    "\n",
    "plt.scatter(LAN['yearID'],LAN[\"Run\"])\n",
    "plt.xlabel(\"yearID\")\n",
    "plt.ylabel(\"Average Run Score\")\n",
    "\n",
    "plt.plot(LAN['yearID'],regress_values,\"r-\")\n",
    "print(LAN_line_eq)\n",
    "plt.show()\n",
    "\n",
    "\n",
    "\n",
    "slopes.append(slope)"
   ]
  },
  {
   "cell_type": "code",
   "execution_count": 46,
   "metadata": {},
   "outputs": [
    {
     "name": "stdout",
     "output_type": "stream",
     "text": [
      "y = 0.1x + -185.75\n"
     ]
    },
    {
     "data": {
      "image/png": "[encoded data removed]",
      "text/plain": [
       "<Figure size 432x288 with 1 Axes>"
      ]
     },
     "metadata": {
      "needs_background": "light"
     },
     "output_type": "display_data"
    }
   ],
   "source": [
    "TBA= d.loc[d['teamID']=='TBA']\n",
    "correlation = st.pearsonr(TBA['yearID'],TBA[\"Run\"])\n",
    "(slope, intercept, rvalue, pvalue, stderr) = st.linregress(TBA['yearID'],TBA[\"Run\"])\n",
    "regress_values = TBA['yearID'] * slope + intercept\n",
    "TBA_line_eq = \"y = \" + str(round(slope,2)) + \"x + \" + str(round(intercept,2))\n",
    "\n",
    "plt.scatter(TBA['yearID'],TBA[\"Run\"])\n",
    "plt.xlabel(\"yearID\")\n",
    "plt.ylabel(\"Average Run Score\")\n",
    "\n",
    "plt.plot(TBA['yearID'],regress_values,\"r-\")\n",
    "print(TBA_line_eq)\n",
    "plt.show()\n",
    "\n",
    "\n",
    "\n",
    "slopes.append(slope)"
   ]
  },
  {
   "cell_type": "code",
   "execution_count": 47,
   "metadata": {},
   "outputs": [
    {
     "name": "stdout",
     "output_type": "stream",
     "text": [
      "y = 1.14x + -2273.08\n"
     ]
    },
    {
     "data": {
      "image/png": "[encoded data removed]",
      "text/plain": [
       "<Figure size 432x288 with 1 Axes>"
      ]
     },
     "metadata": {
      "needs_background": "light"
     },
     "output_type": "display_data"
    }
   ],
   "source": [
    "BOS= d.loc[d['teamID']=='BOS']\n",
    "correlation = st.pearsonr(BOS['yearID'],BOS[\"Run\"])\n",
    "(slope, intercept, rvalue, pvalue, stderr) = st.linregress(BOS['yearID'],BOS[\"Run\"])\n",
    "regress_values = BOS['yearID'] * slope + intercept\n",
    "BOS_line_eq = \"y = \" + str(round(slope,2)) + \"x + \" + str(round(intercept,2))\n",
    "\n",
    "plt.scatter(BOS['yearID'],BOS[\"Run\"])\n",
    "plt.xlabel(\"yearID\")\n",
    "plt.ylabel(\"Average Run Score\")\n",
    "\n",
    "plt.plot(BOS['yearID'],regress_values,\"r-\")\n",
    "print(BOS_line_eq)\n",
    "plt.show()\n",
    "\n",
    "\n",
    "\n",
    "slopes.append(slope)"
   ]
  },
  {
   "cell_type": "code",
   "execution_count": 48,
   "metadata": {},
   "outputs": [
    {
     "name": "stdout",
     "output_type": "stream",
     "text": [
      "y = 0.48x + -960.35\n"
     ]
    },
    {
     "data": {
      "image/png": "[encoded data removed]",
      "text/plain": [
       "<Figure size 432x288 with 1 Axes>"
      ]
     },
     "metadata": {
      "needs_background": "light"
     },
     "output_type": "display_data"
    }
   ],
   "source": [
    "MIL= d.loc[d['teamID']=='MIL']\n",
    "correlation = st.pearsonr(MIL['yearID'],MIL[\"Run\"])\n",
    "(slope, intercept, rvalue, pvalue, stderr) = st.linregress(MIL['yearID'],MIL[\"Run\"])\n",
    "regress_values = MIL['yearID'] * slope + intercept\n",
    "MIL_line_eq = \"y = \" + str(round(slope,2)) + \"x + \" + str(round(intercept,2))\n",
    "\n",
    "plt.scatter(MIL['yearID'],MIL[\"Run\"])\n",
    "plt.xlabel(\"yearID\")\n",
    "plt.ylabel(\"Average Run Score\")\n",
    "\n",
    "plt.plot(MIL['yearID'],regress_values,\"r-\")\n",
    "print(MIL_line_eq)\n",
    "plt.show()\n",
    "\n",
    "\n",
    "\n",
    "slopes.append(slope)"
   ]
  },
  {
   "cell_type": "code",
   "execution_count": 49,
   "metadata": {},
   "outputs": [
    {
     "name": "stdout",
     "output_type": "stream",
     "text": [
      "y = -0.02x + 63.19\n"
     ]
    },
    {
     "data": {
      "image/png": "[encoded data removed]",
      "text/plain": [
       "<Figure size 432x288 with 1 Axes>"
      ]
     },
     "metadata": {
      "needs_background": "light"
     },
     "output_type": "display_data"
    }
   ],
   "source": [
    "\n",
    "WAS= d.loc[d['teamID']=='WAS']\n",
    "correlation = st.pearsonr(WAS['yearID'],WAS[\"Run\"])\n",
    "(slope, intercept, rvalue, pvalue, stderr) = st.linregress(WAS['yearID'],WAS[\"Run\"])\n",
    "regress_values = WAS['yearID'] * slope + intercept\n",
    "WAS_line_eq = \"y = \" + str(round(slope,2)) + \"x + \" + str(round(intercept,2))\n",
    "\n",
    "plt.scatter(WAS['yearID'],WAS[\"Run\"])\n",
    "plt.xlabel(\"yearID\")\n",
    "plt.ylabel(\"Average Run Score\")\n",
    "\n",
    "plt.plot(WAS['yearID'],regress_values,\"r-\")\n",
    "print(WAS_line_eq)\n",
    "plt.show()\n",
    "\n",
    "\n",
    "\n",
    "\n",
    "slopes.append(slope)"
   ]
  },
  {
   "cell_type": "code",
   "execution_count": 50,
   "metadata": {},
   "outputs": [
    {
     "data": {
      "text/plain": [
       "[1.7147740112994354,\n",
       " 0.9643393380574287,\n",
       " -0.1829595327492699,\n",
       " 0.4855609152752012,\n",
       " -0.4547261840998486,\n",
       " 1.1830022960966355,\n",
       " 0.5543706055333392,\n",
       " 0.2012093726379437,\n",
       " 0.38942448566888843,\n",
       " 0.35926319365098947,\n",
       " -1.113888888888889,\n",
       " 0.6436190476190475,\n",
       " -1.470177974510527,\n",
       " 0.4243622081328141,\n",
       " -1.1545196473538504,\n",
       " 0.10121367521367529,\n",
       " -0.813075897025477,\n",
       " -0.22373597781608048,\n",
       " 0.4258044217687076,\n",
       " 1.179505180289416,\n",
       " 0.0013528653463023234,\n",
       " -0.929304667575027,\n",
       " -0.024868664446910674,\n",
       " -0.04507477072258901,\n",
       " -0.10681525398916723,\n",
       " 1.6546913955609608,\n",
       " 0.09868134388258235,\n",
       " 1.1356183107672475,\n",
       " 0.4831721216788605,\n",
       " -0.023156168973632596]"
      ]
     },
     "execution_count": 50,
     "metadata": {},
     "output_type": "execute_result"
    }
   ],
   "source": [
    "slopes"
   ]
  },
  {
   "cell_type": "code",
   "execution_count": 55,
   "metadata": {},
   "outputs": [
    {
     "data": {
      "text/html": [
       "<div>\n",
       "<style scoped>\n",
       "    .dataframe tbody tr th:only-of-type {\n",
       "        vertical-align: middle;\n",
       "    }\n",
       "\n",
       "    .dataframe tbody tr th {\n",
       "        vertical-align: top;\n",
       "    }\n",
       "\n",
       "    .dataframe thead th {\n",
       "        text-align: right;\n",
       "    }\n",
       "</style>\n",
       "<table border=\"1\" class=\"dataframe\">\n",
       "  <thead>\n",
       "    <tr style=\"text-align: right;\">\n",
       "      <th></th>\n",
       "      <th>Team</th>\n",
       "      <th>Slopes</th>\n",
       "    </tr>\n",
       "  </thead>\n",
       "  <tbody>\n",
       "    <tr>\n",
       "      <th>0</th>\n",
       "      <td>ATL</td>\n",
       "      <td>1.714774</td>\n",
       "    </tr>\n",
       "    <tr>\n",
       "      <th>25</th>\n",
       "      <td>LAN</td>\n",
       "      <td>1.654691</td>\n",
       "    </tr>\n",
       "    <tr>\n",
       "      <th>5</th>\n",
       "      <td>NYA</td>\n",
       "      <td>1.183002</td>\n",
       "    </tr>\n",
       "    <tr>\n",
       "      <th>19</th>\n",
       "      <td>HOU</td>\n",
       "      <td>1.179505</td>\n",
       "    </tr>\n",
       "    <tr>\n",
       "      <th>27</th>\n",
       "      <td>BOS</td>\n",
       "      <td>1.135618</td>\n",
       "    </tr>\n",
       "    <tr>\n",
       "      <th>1</th>\n",
       "      <td>OAK</td>\n",
       "      <td>0.964339</td>\n",
       "    </tr>\n",
       "    <tr>\n",
       "      <th>11</th>\n",
       "      <td>ARI</td>\n",
       "      <td>0.643619</td>\n",
       "    </tr>\n",
       "    <tr>\n",
       "      <th>6</th>\n",
       "      <td>COL</td>\n",
       "      <td>0.554371</td>\n",
       "    </tr>\n",
       "    <tr>\n",
       "      <th>3</th>\n",
       "      <td>MIN</td>\n",
       "      <td>0.485561</td>\n",
       "    </tr>\n",
       "    <tr>\n",
       "      <th>28</th>\n",
       "      <td>MIL</td>\n",
       "      <td>0.483172</td>\n",
       "    </tr>\n",
       "    <tr>\n",
       "      <th>18</th>\n",
       "      <td>PHI</td>\n",
       "      <td>0.425804</td>\n",
       "    </tr>\n",
       "    <tr>\n",
       "      <th>13</th>\n",
       "      <td>TEX</td>\n",
       "      <td>0.424362</td>\n",
       "    </tr>\n",
       "    <tr>\n",
       "      <th>8</th>\n",
       "      <td>SLN</td>\n",
       "      <td>0.389424</td>\n",
       "    </tr>\n",
       "    <tr>\n",
       "      <th>9</th>\n",
       "      <td>CIN</td>\n",
       "      <td>0.359263</td>\n",
       "    </tr>\n",
       "    <tr>\n",
       "      <th>7</th>\n",
       "      <td>CLE</td>\n",
       "      <td>0.201209</td>\n",
       "    </tr>\n",
       "    <tr>\n",
       "      <th>15</th>\n",
       "      <td>CHN</td>\n",
       "      <td>0.101214</td>\n",
       "    </tr>\n",
       "    <tr>\n",
       "      <th>26</th>\n",
       "      <td>TBA</td>\n",
       "      <td>0.098681</td>\n",
       "    </tr>\n",
       "    <tr>\n",
       "      <th>20</th>\n",
       "      <td>NYN</td>\n",
       "      <td>0.001353</td>\n",
       "    </tr>\n",
       "    <tr>\n",
       "      <th>29</th>\n",
       "      <td>WAS</td>\n",
       "      <td>-0.023156</td>\n",
       "    </tr>\n",
       "    <tr>\n",
       "      <th>22</th>\n",
       "      <td>MIA</td>\n",
       "      <td>-0.024869</td>\n",
       "    </tr>\n",
       "    <tr>\n",
       "      <th>23</th>\n",
       "      <td>LAA</td>\n",
       "      <td>-0.045075</td>\n",
       "    </tr>\n",
       "    <tr>\n",
       "      <th>24</th>\n",
       "      <td>PIT</td>\n",
       "      <td>-0.106815</td>\n",
       "    </tr>\n",
       "    <tr>\n",
       "      <th>2</th>\n",
       "      <td>CHA</td>\n",
       "      <td>-0.182960</td>\n",
       "    </tr>\n",
       "    <tr>\n",
       "      <th>17</th>\n",
       "      <td>SDN</td>\n",
       "      <td>-0.223736</td>\n",
       "    </tr>\n",
       "    <tr>\n",
       "      <th>4</th>\n",
       "      <td>SEA</td>\n",
       "      <td>-0.454726</td>\n",
       "    </tr>\n",
       "    <tr>\n",
       "      <th>16</th>\n",
       "      <td>KCA</td>\n",
       "      <td>-0.813076</td>\n",
       "    </tr>\n",
       "    <tr>\n",
       "      <th>21</th>\n",
       "      <td>BAL</td>\n",
       "      <td>-0.929305</td>\n",
       "    </tr>\n",
       "    <tr>\n",
       "      <th>10</th>\n",
       "      <td>SFN</td>\n",
       "      <td>-1.113889</td>\n",
       "    </tr>\n",
       "    <tr>\n",
       "      <th>14</th>\n",
       "      <td>DET</td>\n",
       "      <td>-1.154520</td>\n",
       "    </tr>\n",
       "    <tr>\n",
       "      <th>12</th>\n",
       "      <td>TOR</td>\n",
       "      <td>-1.470178</td>\n",
       "    </tr>\n",
       "  </tbody>\n",
       "</table>\n",
       "</div>"
      ],
      "text/plain": [
       "   Team    Slopes\n",
       "0   ATL  1.714774\n",
       "25  LAN  1.654691\n",
       "5   NYA  1.183002\n",
       "19  HOU  1.179505\n",
       "27  BOS  1.135618\n",
       "1   OAK  0.964339\n",
       "11  ARI  0.643619\n",
       "6   COL  0.554371\n",
       "3   MIN  0.485561\n",
       "28  MIL  0.483172\n",
       "18  PHI  0.425804\n",
       "13  TEX  0.424362\n",
       "8   SLN  0.389424\n",
       "9   CIN  0.359263\n",
       "7   CLE  0.201209\n",
       "15  CHN  0.101214\n",
       "26  TBA  0.098681\n",
       "20  NYN  0.001353\n",
       "29  WAS -0.023156\n",
       "22  MIA -0.024869\n",
       "23  LAA -0.045075\n",
       "24  PIT -0.106815\n",
       "2   CHA -0.182960\n",
       "17  SDN -0.223736\n",
       "4   SEA -0.454726\n",
       "16  KCA -0.813076\n",
       "21  BAL -0.929305\n",
       "10  SFN -1.113889\n",
       "14  DET -1.154520\n",
       "12  TOR -1.470178"
      ]
     },
     "execution_count": 55,
     "metadata": {},
     "output_type": "execute_result"
    }
   ],
   "source": [
    "#collecting all slopes from the graphs above\n",
    "Data = pd.DataFrame({\n",
    "                    \"Team\":(teamdata),\n",
    "                    \"Slopes\":(slopes)\n",
    "                     })\n",
    "Data= Data.sort_values(\"Slopes\",ascending=False)\n",
    "Data"
   ]
  },
  {
   "cell_type": "code",
   "execution_count": 60,
   "metadata": {},
   "outputs": [
    {
     "data": {
      "text/html": [
       "<div>\n",
       "<style scoped>\n",
       "    .dataframe tbody tr th:only-of-type {\n",
       "        vertical-align: middle;\n",
       "    }\n",
       "\n",
       "    .dataframe tbody tr th {\n",
       "        vertical-align: top;\n",
       "    }\n",
       "\n",
       "    .dataframe thead th {\n",
       "        text-align: right;\n",
       "    }\n",
       "</style>\n",
       "<table border=\"1\" class=\"dataframe\">\n",
       "  <thead>\n",
       "    <tr style=\"text-align: right;\">\n",
       "      <th></th>\n",
       "      <th>Team</th>\n",
       "      <th>Slopes</th>\n",
       "    </tr>\n",
       "  </thead>\n",
       "  <tbody>\n",
       "    <tr>\n",
       "      <th>0</th>\n",
       "      <td>ATL</td>\n",
       "      <td>1.714774</td>\n",
       "    </tr>\n",
       "    <tr>\n",
       "      <th>1</th>\n",
       "      <td>LAN</td>\n",
       "      <td>1.654691</td>\n",
       "    </tr>\n",
       "    <tr>\n",
       "      <th>2</th>\n",
       "      <td>NYA</td>\n",
       "      <td>1.183002</td>\n",
       "    </tr>\n",
       "    <tr>\n",
       "      <th>3</th>\n",
       "      <td>HOU</td>\n",
       "      <td>1.179505</td>\n",
       "    </tr>\n",
       "    <tr>\n",
       "      <th>4</th>\n",
       "      <td>BOS</td>\n",
       "      <td>1.135618</td>\n",
       "    </tr>\n",
       "    <tr>\n",
       "      <th>5</th>\n",
       "      <td>OAK</td>\n",
       "      <td>0.964339</td>\n",
       "    </tr>\n",
       "    <tr>\n",
       "      <th>6</th>\n",
       "      <td>ARI</td>\n",
       "      <td>0.643619</td>\n",
       "    </tr>\n",
       "    <tr>\n",
       "      <th>7</th>\n",
       "      <td>COL</td>\n",
       "      <td>0.554371</td>\n",
       "    </tr>\n",
       "    <tr>\n",
       "      <th>8</th>\n",
       "      <td>MIN</td>\n",
       "      <td>0.485561</td>\n",
       "    </tr>\n",
       "    <tr>\n",
       "      <th>9</th>\n",
       "      <td>MIL</td>\n",
       "      <td>0.483172</td>\n",
       "    </tr>\n",
       "  </tbody>\n",
       "</table>\n",
       "</div>"
      ],
      "text/plain": [
       "  Team    Slopes\n",
       "0  ATL  1.714774\n",
       "1  LAN  1.654691\n",
       "2  NYA  1.183002\n",
       "3  HOU  1.179505\n",
       "4  BOS  1.135618\n",
       "5  OAK  0.964339\n",
       "6  ARI  0.643619\n",
       "7  COL  0.554371\n",
       "8  MIN  0.485561\n",
       "9  MIL  0.483172"
      ]
     },
     "execution_count": 60,
     "metadata": {},
     "output_type": "execute_result"
    }
   ],
   "source": [
    "top10_strong_teams=Data.head(10)\n",
    "top10_strong_teams\n",
    "Topteams= top10_strong_teams.reset_index()\n",
    "Top_10teams=Topteams.drop(['index'], axis=1)\n",
    "Top_10teams"
   ]
  },
  {
   "cell_type": "code",
   "execution_count": null,
   "metadata": {},
   "outputs": [],
   "source": [
    "#Summary:\n",
    "    # After get all data for each team, applied scatterplot to obtain each trend-line of each team to see how they performed in the last 5 years\n",
    "    # With the trend-line, slope of line were collected to compare\n",
    "    # team with higher slope means they scored better and witl have higher potential with this trend.\n",
    "    # Therefore, the top 10 team with highest slope were drawn using Batching file."
   ]
  }
 ],
 "metadata": {
  "kernelspec": {
   "display_name": "Python [conda env:.conda-PythonData] *",
   "language": "python",
   "name": "conda-env-.conda-PythonData-py"
  },
  "language_info": {
   "codemirror_mode": {
    "name": "ipython",
    "version": 3
   },
   "file_extension": ".py",
   "mimetype": "text/x-python",
   "name": "python",
   "nbconvert_exporter": "python",
   "pygments_lexer": "ipython3",
   "version": "3.7.1"
  }
 },
 "nbformat": 4,
 "nbformat_minor": 4
}
